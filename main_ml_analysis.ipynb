{
 "cells": [
  {
   "cell_type": "code",
   "execution_count": 1,
   "metadata": {},
   "outputs": [],
   "source": [
    "import pandas as pd"
   ]
  },
  {
   "cell_type": "code",
   "execution_count": 2,
   "metadata": {},
   "outputs": [],
   "source": [
    "df_reader = pd.read_json('Clothing_Shoes_and_Jewelry.json',lines = True,chunksize=1000000)"
   ]
  },
  {
   "cell_type": "code",
   "execution_count": null,
   "metadata": {},
   "outputs": [],
   "source": [
    "counter = 1\n",
    "for chunk in df_reader:\n",
    "    new_df = pd.DataFrame(chunk[['overall','reviewText','summary']])\n",
    "    \n",
    "    new_df1 = new_df[new_df['overall'] == 5].sample(4000)\n",
    "    new_df2 = new_df[new_df['overall'] == 4].sample(4000)\n",
    "    new_df3 = new_df[new_df['overall'] == 3].sample(8000)\n",
    "    new_df4 = new_df[new_df['overall'] == 2].sample(4000)\n",
    "    new_df5 = new_df[new_df['overall'] == 1].sample(4000)\n",
    "    \n",
    "    new_df6 = pd.concat([new_df1,new_df2,new_df3,new_df4,new_df5], axis = 0, ignore_index = True)\n",
    "    \n",
    "    new_df6.to_csv(str(counter)+\".csv\", index = False)\n",
    "    \n",
    "    new_df = None\n",
    "    counter = counter + 1"
   ]
  },
  {
   "cell_type": "code",
   "execution_count": 44,
   "metadata": {},
   "outputs": [],
   "source": [
    "#data aggregation\n",
    "\n",
    "import pandas as pd\n",
    "\n",
    "from glob import glob\n",
    "\n",
    "filenames = glob('*.csv')\n",
    "\n",
    "#list comprehension\n",
    "dataframes = [pd.read_csv(f) for f in filenames]\n",
    "\n",
    "frame = pd.concat(dataframes, axis = 0, ignore_index = True)\n",
    "\n",
    "frame.to_csv('balanced_reviews.csv', index =  False)\n"
   ]
  },
  {
   "cell_type": "code",
   "execution_count": 2,
   "metadata": {},
   "outputs": [],
   "source": [
    "import numpy as np"
   ]
  },
  {
   "cell_type": "code",
   "execution_count": 3,
   "metadata": {},
   "outputs": [],
   "source": [
    "df = pd.read_csv('balanced_reviews.csv')"
   ]
  },
  {
   "cell_type": "code",
   "execution_count": 4,
   "metadata": {},
   "outputs": [],
   "source": [
    "#EDA activities"
   ]
  },
  {
   "cell_type": "code",
   "execution_count": 5,
   "metadata": {},
   "outputs": [
    {
     "data": {
      "text/plain": [
       "(792000, 3)"
      ]
     },
     "execution_count": 5,
     "metadata": {},
     "output_type": "execute_result"
    }
   ],
   "source": [
    "df.shape"
   ]
  },
  {
   "cell_type": "code",
   "execution_count": 6,
   "metadata": {},
   "outputs": [
    {
     "data": {
      "text/html": [
       "<div>\n",
       "<style scoped>\n",
       "    .dataframe tbody tr th:only-of-type {\n",
       "        vertical-align: middle;\n",
       "    }\n",
       "\n",
       "    .dataframe tbody tr th {\n",
       "        vertical-align: top;\n",
       "    }\n",
       "\n",
       "    .dataframe thead th {\n",
       "        text-align: right;\n",
       "    }\n",
       "</style>\n",
       "<table border=\"1\" class=\"dataframe\">\n",
       "  <thead>\n",
       "    <tr style=\"text-align: right;\">\n",
       "      <th></th>\n",
       "      <th>overall</th>\n",
       "      <th>reviewText</th>\n",
       "      <th>summary</th>\n",
       "    </tr>\n",
       "  </thead>\n",
       "  <tbody>\n",
       "    <tr>\n",
       "      <th>0</th>\n",
       "      <td>5</td>\n",
       "      <td>great shoes, i love them, they are really comf...</td>\n",
       "      <td>awesome product</td>\n",
       "    </tr>\n",
       "    <tr>\n",
       "      <th>1</th>\n",
       "      <td>5</td>\n",
       "      <td>The best shoe ever!</td>\n",
       "      <td>Five Stars</td>\n",
       "    </tr>\n",
       "    <tr>\n",
       "      <th>2</th>\n",
       "      <td>5</td>\n",
       "      <td>these are moccasins and in general moccasins d...</td>\n",
       "      <td>... general moccasins do not provide arch supp...</td>\n",
       "    </tr>\n",
       "    <tr>\n",
       "      <th>3</th>\n",
       "      <td>5</td>\n",
       "      <td>Look good and fit well. Seem durable so hoping...</td>\n",
       "      <td>Well made</td>\n",
       "    </tr>\n",
       "    <tr>\n",
       "      <th>4</th>\n",
       "      <td>5</td>\n",
       "      <td>Comfortable, stylish, just what I was looking ...</td>\n",
       "      <td>Great sandal</td>\n",
       "    </tr>\n",
       "  </tbody>\n",
       "</table>\n",
       "</div>"
      ],
      "text/plain": [
       "   overall                                         reviewText  \\\n",
       "0        5  great shoes, i love them, they are really comf...   \n",
       "1        5                                The best shoe ever!   \n",
       "2        5  these are moccasins and in general moccasins d...   \n",
       "3        5  Look good and fit well. Seem durable so hoping...   \n",
       "4        5  Comfortable, stylish, just what I was looking ...   \n",
       "\n",
       "                                             summary  \n",
       "0                                    awesome product  \n",
       "1                                         Five Stars  \n",
       "2  ... general moccasins do not provide arch supp...  \n",
       "3                                          Well made  \n",
       "4                                       Great sandal  "
      ]
     },
     "execution_count": 6,
     "metadata": {},
     "output_type": "execute_result"
    }
   ],
   "source": [
    "df.head()"
   ]
  },
  {
   "cell_type": "code",
   "execution_count": 7,
   "metadata": {},
   "outputs": [],
   "source": [
    "df = df[['overall','reviewText','summary']]"
   ]
  },
  {
   "cell_type": "code",
   "execution_count": 8,
   "metadata": {},
   "outputs": [
    {
     "data": {
      "text/html": [
       "<div>\n",
       "<style scoped>\n",
       "    .dataframe tbody tr th:only-of-type {\n",
       "        vertical-align: middle;\n",
       "    }\n",
       "\n",
       "    .dataframe tbody tr th {\n",
       "        vertical-align: top;\n",
       "    }\n",
       "\n",
       "    .dataframe thead th {\n",
       "        text-align: right;\n",
       "    }\n",
       "</style>\n",
       "<table border=\"1\" class=\"dataframe\">\n",
       "  <thead>\n",
       "    <tr style=\"text-align: right;\">\n",
       "      <th></th>\n",
       "      <th>overall</th>\n",
       "      <th>reviewText</th>\n",
       "      <th>summary</th>\n",
       "    </tr>\n",
       "  </thead>\n",
       "  <tbody>\n",
       "    <tr>\n",
       "      <th>0</th>\n",
       "      <td>5</td>\n",
       "      <td>great shoes, i love them, they are really comf...</td>\n",
       "      <td>awesome product</td>\n",
       "    </tr>\n",
       "    <tr>\n",
       "      <th>1</th>\n",
       "      <td>5</td>\n",
       "      <td>The best shoe ever!</td>\n",
       "      <td>Five Stars</td>\n",
       "    </tr>\n",
       "    <tr>\n",
       "      <th>2</th>\n",
       "      <td>5</td>\n",
       "      <td>these are moccasins and in general moccasins d...</td>\n",
       "      <td>... general moccasins do not provide arch supp...</td>\n",
       "    </tr>\n",
       "    <tr>\n",
       "      <th>3</th>\n",
       "      <td>5</td>\n",
       "      <td>Look good and fit well. Seem durable so hoping...</td>\n",
       "      <td>Well made</td>\n",
       "    </tr>\n",
       "    <tr>\n",
       "      <th>4</th>\n",
       "      <td>5</td>\n",
       "      <td>Comfortable, stylish, just what I was looking ...</td>\n",
       "      <td>Great sandal</td>\n",
       "    </tr>\n",
       "  </tbody>\n",
       "</table>\n",
       "</div>"
      ],
      "text/plain": [
       "   overall                                         reviewText  \\\n",
       "0        5  great shoes, i love them, they are really comf...   \n",
       "1        5                                The best shoe ever!   \n",
       "2        5  these are moccasins and in general moccasins d...   \n",
       "3        5  Look good and fit well. Seem durable so hoping...   \n",
       "4        5  Comfortable, stylish, just what I was looking ...   \n",
       "\n",
       "                                             summary  \n",
       "0                                    awesome product  \n",
       "1                                         Five Stars  \n",
       "2  ... general moccasins do not provide arch supp...  \n",
       "3                                          Well made  \n",
       "4                                       Great sandal  "
      ]
     },
     "execution_count": 8,
     "metadata": {},
     "output_type": "execute_result"
    }
   ],
   "source": [
    "df.head()"
   ]
  },
  {
   "cell_type": "code",
   "execution_count": 9,
   "metadata": {},
   "outputs": [
    {
     "data": {
      "text/plain": [
       "(792000, 3)"
      ]
     },
     "execution_count": 9,
     "metadata": {},
     "output_type": "execute_result"
    }
   ],
   "source": [
    "df.shape"
   ]
  },
  {
   "cell_type": "code",
   "execution_count": 10,
   "metadata": {},
   "outputs": [
    {
     "data": {
      "text/plain": [
       "3    264000\n",
       "5    132000\n",
       "4    132000\n",
       "2    132000\n",
       "1    132000\n",
       "Name: overall, dtype: int64"
      ]
     },
     "execution_count": 10,
     "metadata": {},
     "output_type": "execute_result"
    }
   ],
   "source": [
    "df['overall'].value_counts()"
   ]
  },
  {
   "cell_type": "code",
   "execution_count": 11,
   "metadata": {},
   "outputs": [
    {
     "data": {
      "text/plain": [
       "overall       False\n",
       "reviewText     True\n",
       "summary        True\n",
       "dtype: bool"
      ]
     },
     "execution_count": 11,
     "metadata": {},
     "output_type": "execute_result"
    }
   ],
   "source": [
    "df.isnull().any(axis=0)"
   ]
  },
  {
   "cell_type": "code",
   "execution_count": 12,
   "metadata": {},
   "outputs": [
    {
     "data": {
      "text/plain": [
       "0         False\n",
       "1         False\n",
       "2         False\n",
       "3         False\n",
       "4         False\n",
       "          ...  \n",
       "791995    False\n",
       "791996    False\n",
       "791997    False\n",
       "791998    False\n",
       "791999    False\n",
       "Length: 792000, dtype: bool"
      ]
     },
     "execution_count": 12,
     "metadata": {},
     "output_type": "execute_result"
    }
   ],
   "source": [
    "df.isnull().any(axis=1)"
   ]
  },
  {
   "cell_type": "code",
   "execution_count": 13,
   "metadata": {},
   "outputs": [
    {
     "data": {
      "text/html": [
       "<div>\n",
       "<style scoped>\n",
       "    .dataframe tbody tr th:only-of-type {\n",
       "        vertical-align: middle;\n",
       "    }\n",
       "\n",
       "    .dataframe tbody tr th {\n",
       "        vertical-align: top;\n",
       "    }\n",
       "\n",
       "    .dataframe thead th {\n",
       "        text-align: right;\n",
       "    }\n",
       "</style>\n",
       "<table border=\"1\" class=\"dataframe\">\n",
       "  <thead>\n",
       "    <tr style=\"text-align: right;\">\n",
       "      <th></th>\n",
       "      <th>overall</th>\n",
       "      <th>reviewText</th>\n",
       "      <th>summary</th>\n",
       "    </tr>\n",
       "  </thead>\n",
       "  <tbody>\n",
       "    <tr>\n",
       "      <th>337</th>\n",
       "      <td>5</td>\n",
       "      <td>NaN</td>\n",
       "      <td>Five Stars</td>\n",
       "    </tr>\n",
       "    <tr>\n",
       "      <th>813</th>\n",
       "      <td>5</td>\n",
       "      <td>NaN</td>\n",
       "      <td>Five Stars</td>\n",
       "    </tr>\n",
       "    <tr>\n",
       "      <th>1021</th>\n",
       "      <td>5</td>\n",
       "      <td>I love them! They are so cute!</td>\n",
       "      <td>NaN</td>\n",
       "    </tr>\n",
       "    <tr>\n",
       "      <th>1271</th>\n",
       "      <td>5</td>\n",
       "      <td>Wonderfulso beautiful shoes!</td>\n",
       "      <td>NaN</td>\n",
       "    </tr>\n",
       "    <tr>\n",
       "      <th>1492</th>\n",
       "      <td>5</td>\n",
       "      <td>NaN</td>\n",
       "      <td>Five Stars</td>\n",
       "    </tr>\n",
       "    <tr>\n",
       "      <th>...</th>\n",
       "      <td>...</td>\n",
       "      <td>...</td>\n",
       "      <td>...</td>\n",
       "    </tr>\n",
       "    <tr>\n",
       "      <th>780696</th>\n",
       "      <td>3</td>\n",
       "      <td>ok very small</td>\n",
       "      <td>NaN</td>\n",
       "    </tr>\n",
       "    <tr>\n",
       "      <th>782937</th>\n",
       "      <td>3</td>\n",
       "      <td>NaN</td>\n",
       "      <td>Three Stars</td>\n",
       "    </tr>\n",
       "    <tr>\n",
       "      <th>786741</th>\n",
       "      <td>2</td>\n",
       "      <td>NaN</td>\n",
       "      <td>Two Stars</td>\n",
       "    </tr>\n",
       "    <tr>\n",
       "      <th>788577</th>\n",
       "      <td>1</td>\n",
       "      <td>Runs small, cheap material.</td>\n",
       "      <td>NaN</td>\n",
       "    </tr>\n",
       "    <tr>\n",
       "      <th>791356</th>\n",
       "      <td>1</td>\n",
       "      <td>Insta exact size just not what I expected the ...</td>\n",
       "      <td>NaN</td>\n",
       "    </tr>\n",
       "  </tbody>\n",
       "</table>\n",
       "<p>814 rows × 3 columns</p>\n",
       "</div>"
      ],
      "text/plain": [
       "        overall                                         reviewText  \\\n",
       "337           5                                                NaN   \n",
       "813           5                                                NaN   \n",
       "1021          5                    I love them! They are so cute!    \n",
       "1271          5                       Wonderfulso beautiful shoes!   \n",
       "1492          5                                                NaN   \n",
       "...         ...                                                ...   \n",
       "780696        3                                      ok very small   \n",
       "782937        3                                                NaN   \n",
       "786741        2                                                NaN   \n",
       "788577        1                        Runs small, cheap material.   \n",
       "791356        1  Insta exact size just not what I expected the ...   \n",
       "\n",
       "            summary  \n",
       "337      Five Stars  \n",
       "813      Five Stars  \n",
       "1021            NaN  \n",
       "1271            NaN  \n",
       "1492     Five Stars  \n",
       "...             ...  \n",
       "780696          NaN  \n",
       "782937  Three Stars  \n",
       "786741    Two Stars  \n",
       "788577          NaN  \n",
       "791356          NaN  \n",
       "\n",
       "[814 rows x 3 columns]"
      ]
     },
     "execution_count": 13,
     "metadata": {},
     "output_type": "execute_result"
    }
   ],
   "source": [
    "df[df.isnull().any(axis=1)]"
   ]
  },
  {
   "cell_type": "code",
   "execution_count": 14,
   "metadata": {},
   "outputs": [
    {
     "data": {
      "text/html": [
       "<div>\n",
       "<style scoped>\n",
       "    .dataframe tbody tr th:only-of-type {\n",
       "        vertical-align: middle;\n",
       "    }\n",
       "\n",
       "    .dataframe tbody tr th {\n",
       "        vertical-align: top;\n",
       "    }\n",
       "\n",
       "    .dataframe thead th {\n",
       "        text-align: right;\n",
       "    }\n",
       "</style>\n",
       "<table border=\"1\" class=\"dataframe\">\n",
       "  <thead>\n",
       "    <tr style=\"text-align: right;\">\n",
       "      <th></th>\n",
       "      <th>overall</th>\n",
       "      <th>reviewText</th>\n",
       "      <th>summary</th>\n",
       "    </tr>\n",
       "  </thead>\n",
       "  <tbody>\n",
       "    <tr>\n",
       "      <th>337</th>\n",
       "      <td>5</td>\n",
       "      <td>NaN</td>\n",
       "      <td>Five Stars</td>\n",
       "    </tr>\n",
       "    <tr>\n",
       "      <th>813</th>\n",
       "      <td>5</td>\n",
       "      <td>NaN</td>\n",
       "      <td>Five Stars</td>\n",
       "    </tr>\n",
       "    <tr>\n",
       "      <th>1021</th>\n",
       "      <td>5</td>\n",
       "      <td>I love them! They are so cute!</td>\n",
       "      <td>NaN</td>\n",
       "    </tr>\n",
       "    <tr>\n",
       "      <th>1271</th>\n",
       "      <td>5</td>\n",
       "      <td>Wonderfulso beautiful shoes!</td>\n",
       "      <td>NaN</td>\n",
       "    </tr>\n",
       "    <tr>\n",
       "      <th>1492</th>\n",
       "      <td>5</td>\n",
       "      <td>NaN</td>\n",
       "      <td>Five Stars</td>\n",
       "    </tr>\n",
       "  </tbody>\n",
       "</table>\n",
       "</div>"
      ],
      "text/plain": [
       "      overall                       reviewText     summary\n",
       "337         5                              NaN  Five Stars\n",
       "813         5                              NaN  Five Stars\n",
       "1021        5  I love them! They are so cute!          NaN\n",
       "1271        5     Wonderfulso beautiful shoes!         NaN\n",
       "1492        5                              NaN  Five Stars"
      ]
     },
     "execution_count": 14,
     "metadata": {},
     "output_type": "execute_result"
    }
   ],
   "source": [
    "df[df.isnull().any(axis=1)].head()"
   ]
  },
  {
   "cell_type": "code",
   "execution_count": 15,
   "metadata": {},
   "outputs": [],
   "source": [
    "#handling the missing data"
   ]
  },
  {
   "cell_type": "code",
   "execution_count": 16,
   "metadata": {},
   "outputs": [
    {
     "data": {
      "text/html": [
       "<div>\n",
       "<style scoped>\n",
       "    .dataframe tbody tr th:only-of-type {\n",
       "        vertical-align: middle;\n",
       "    }\n",
       "\n",
       "    .dataframe tbody tr th {\n",
       "        vertical-align: top;\n",
       "    }\n",
       "\n",
       "    .dataframe thead th {\n",
       "        text-align: right;\n",
       "    }\n",
       "</style>\n",
       "<table border=\"1\" class=\"dataframe\">\n",
       "  <thead>\n",
       "    <tr style=\"text-align: right;\">\n",
       "      <th></th>\n",
       "      <th>overall</th>\n",
       "      <th>reviewText</th>\n",
       "      <th>summary</th>\n",
       "    </tr>\n",
       "  </thead>\n",
       "  <tbody>\n",
       "    <tr>\n",
       "      <th>0</th>\n",
       "      <td>5</td>\n",
       "      <td>great shoes, i love them, they are really comf...</td>\n",
       "      <td>awesome product</td>\n",
       "    </tr>\n",
       "    <tr>\n",
       "      <th>1</th>\n",
       "      <td>5</td>\n",
       "      <td>The best shoe ever!</td>\n",
       "      <td>Five Stars</td>\n",
       "    </tr>\n",
       "    <tr>\n",
       "      <th>2</th>\n",
       "      <td>5</td>\n",
       "      <td>these are moccasins and in general moccasins d...</td>\n",
       "      <td>... general moccasins do not provide arch supp...</td>\n",
       "    </tr>\n",
       "    <tr>\n",
       "      <th>3</th>\n",
       "      <td>5</td>\n",
       "      <td>Look good and fit well. Seem durable so hoping...</td>\n",
       "      <td>Well made</td>\n",
       "    </tr>\n",
       "    <tr>\n",
       "      <th>4</th>\n",
       "      <td>5</td>\n",
       "      <td>Comfortable, stylish, just what I was looking ...</td>\n",
       "      <td>Great sandal</td>\n",
       "    </tr>\n",
       "    <tr>\n",
       "      <th>...</th>\n",
       "      <td>...</td>\n",
       "      <td>...</td>\n",
       "      <td>...</td>\n",
       "    </tr>\n",
       "    <tr>\n",
       "      <th>791995</th>\n",
       "      <td>1</td>\n",
       "      <td>I brought a previous years model of a Komen mo...</td>\n",
       "      <td>Company Does not Back up Manufacturing Defects...</td>\n",
       "    </tr>\n",
       "    <tr>\n",
       "      <th>791996</th>\n",
       "      <td>1</td>\n",
       "      <td>I like others thought maybe some people were w...</td>\n",
       "      <td>Don't be fooled. You really only get 1 in the ...</td>\n",
       "    </tr>\n",
       "    <tr>\n",
       "      <th>791997</th>\n",
       "      <td>1</td>\n",
       "      <td>For cuteness these would get 5 stars. But they...</td>\n",
       "      <td>Way too narrow</td>\n",
       "    </tr>\n",
       "    <tr>\n",
       "      <th>791998</th>\n",
       "      <td>1</td>\n",
       "      <td>I understand you get what you pay for. I got e...</td>\n",
       "      <td>DO NOT BUY THIS RING. WASTE OF MONEY.</td>\n",
       "    </tr>\n",
       "    <tr>\n",
       "      <th>791999</th>\n",
       "      <td>1</td>\n",
       "      <td>Prior to trying this shoe I brought Dr Scholl ...</td>\n",
       "      <td>Did not stood up to it brand's reputation and ...</td>\n",
       "    </tr>\n",
       "  </tbody>\n",
       "</table>\n",
       "<p>791186 rows × 3 columns</p>\n",
       "</div>"
      ],
      "text/plain": [
       "        overall                                         reviewText  \\\n",
       "0             5  great shoes, i love them, they are really comf...   \n",
       "1             5                                The best shoe ever!   \n",
       "2             5  these are moccasins and in general moccasins d...   \n",
       "3             5  Look good and fit well. Seem durable so hoping...   \n",
       "4             5  Comfortable, stylish, just what I was looking ...   \n",
       "...         ...                                                ...   \n",
       "791995        1  I brought a previous years model of a Komen mo...   \n",
       "791996        1  I like others thought maybe some people were w...   \n",
       "791997        1  For cuteness these would get 5 stars. But they...   \n",
       "791998        1  I understand you get what you pay for. I got e...   \n",
       "791999        1  Prior to trying this shoe I brought Dr Scholl ...   \n",
       "\n",
       "                                                  summary  \n",
       "0                                         awesome product  \n",
       "1                                              Five Stars  \n",
       "2       ... general moccasins do not provide arch supp...  \n",
       "3                                               Well made  \n",
       "4                                            Great sandal  \n",
       "...                                                   ...  \n",
       "791995  Company Does not Back up Manufacturing Defects...  \n",
       "791996  Don't be fooled. You really only get 1 in the ...  \n",
       "791997                                     Way too narrow  \n",
       "791998              DO NOT BUY THIS RING. WASTE OF MONEY.  \n",
       "791999  Did not stood up to it brand's reputation and ...  \n",
       "\n",
       "[791186 rows x 3 columns]"
      ]
     },
     "execution_count": 16,
     "metadata": {},
     "output_type": "execute_result"
    }
   ],
   "source": [
    "df.dropna()"
   ]
  },
  {
   "cell_type": "code",
   "execution_count": 17,
   "metadata": {},
   "outputs": [
    {
     "data": {
      "text/html": [
       "<div>\n",
       "<style scoped>\n",
       "    .dataframe tbody tr th:only-of-type {\n",
       "        vertical-align: middle;\n",
       "    }\n",
       "\n",
       "    .dataframe tbody tr th {\n",
       "        vertical-align: top;\n",
       "    }\n",
       "\n",
       "    .dataframe thead th {\n",
       "        text-align: right;\n",
       "    }\n",
       "</style>\n",
       "<table border=\"1\" class=\"dataframe\">\n",
       "  <thead>\n",
       "    <tr style=\"text-align: right;\">\n",
       "      <th></th>\n",
       "      <th>overall</th>\n",
       "      <th>reviewText</th>\n",
       "      <th>summary</th>\n",
       "    </tr>\n",
       "  </thead>\n",
       "  <tbody>\n",
       "    <tr>\n",
       "      <th>337</th>\n",
       "      <td>5</td>\n",
       "      <td>NaN</td>\n",
       "      <td>Five Stars</td>\n",
       "    </tr>\n",
       "    <tr>\n",
       "      <th>813</th>\n",
       "      <td>5</td>\n",
       "      <td>NaN</td>\n",
       "      <td>Five Stars</td>\n",
       "    </tr>\n",
       "    <tr>\n",
       "      <th>1021</th>\n",
       "      <td>5</td>\n",
       "      <td>I love them! They are so cute!</td>\n",
       "      <td>NaN</td>\n",
       "    </tr>\n",
       "    <tr>\n",
       "      <th>1271</th>\n",
       "      <td>5</td>\n",
       "      <td>Wonderfulso beautiful shoes!</td>\n",
       "      <td>NaN</td>\n",
       "    </tr>\n",
       "    <tr>\n",
       "      <th>1492</th>\n",
       "      <td>5</td>\n",
       "      <td>NaN</td>\n",
       "      <td>Five Stars</td>\n",
       "    </tr>\n",
       "    <tr>\n",
       "      <th>...</th>\n",
       "      <td>...</td>\n",
       "      <td>...</td>\n",
       "      <td>...</td>\n",
       "    </tr>\n",
       "    <tr>\n",
       "      <th>780696</th>\n",
       "      <td>3</td>\n",
       "      <td>ok very small</td>\n",
       "      <td>NaN</td>\n",
       "    </tr>\n",
       "    <tr>\n",
       "      <th>782937</th>\n",
       "      <td>3</td>\n",
       "      <td>NaN</td>\n",
       "      <td>Three Stars</td>\n",
       "    </tr>\n",
       "    <tr>\n",
       "      <th>786741</th>\n",
       "      <td>2</td>\n",
       "      <td>NaN</td>\n",
       "      <td>Two Stars</td>\n",
       "    </tr>\n",
       "    <tr>\n",
       "      <th>788577</th>\n",
       "      <td>1</td>\n",
       "      <td>Runs small, cheap material.</td>\n",
       "      <td>NaN</td>\n",
       "    </tr>\n",
       "    <tr>\n",
       "      <th>791356</th>\n",
       "      <td>1</td>\n",
       "      <td>Insta exact size just not what I expected the ...</td>\n",
       "      <td>NaN</td>\n",
       "    </tr>\n",
       "  </tbody>\n",
       "</table>\n",
       "<p>814 rows × 3 columns</p>\n",
       "</div>"
      ],
      "text/plain": [
       "        overall                                         reviewText  \\\n",
       "337           5                                                NaN   \n",
       "813           5                                                NaN   \n",
       "1021          5                    I love them! They are so cute!    \n",
       "1271          5                       Wonderfulso beautiful shoes!   \n",
       "1492          5                                                NaN   \n",
       "...         ...                                                ...   \n",
       "780696        3                                      ok very small   \n",
       "782937        3                                                NaN   \n",
       "786741        2                                                NaN   \n",
       "788577        1                        Runs small, cheap material.   \n",
       "791356        1  Insta exact size just not what I expected the ...   \n",
       "\n",
       "            summary  \n",
       "337      Five Stars  \n",
       "813      Five Stars  \n",
       "1021            NaN  \n",
       "1271            NaN  \n",
       "1492     Five Stars  \n",
       "...             ...  \n",
       "780696          NaN  \n",
       "782937  Three Stars  \n",
       "786741    Two Stars  \n",
       "788577          NaN  \n",
       "791356          NaN  \n",
       "\n",
       "[814 rows x 3 columns]"
      ]
     },
     "execution_count": 17,
     "metadata": {},
     "output_type": "execute_result"
    }
   ],
   "source": [
    "df[df.isnull().any(axis=1)]"
   ]
  },
  {
   "cell_type": "code",
   "execution_count": 18,
   "metadata": {},
   "outputs": [],
   "source": [
    "df.dropna(inplace=True)"
   ]
  },
  {
   "cell_type": "code",
   "execution_count": 19,
   "metadata": {},
   "outputs": [
    {
     "data": {
      "text/plain": [
       "overall       0\n",
       "reviewText    0\n",
       "summary       0\n",
       "dtype: int64"
      ]
     },
     "execution_count": 19,
     "metadata": {},
     "output_type": "execute_result"
    }
   ],
   "source": [
    "df[df.isnull().any(axis=1)].count()"
   ]
  },
  {
   "cell_type": "code",
   "execution_count": 20,
   "metadata": {},
   "outputs": [
    {
     "data": {
      "text/plain": [
       "overall       False\n",
       "reviewText    False\n",
       "summary       False\n",
       "dtype: bool"
      ]
     },
     "execution_count": 20,
     "metadata": {},
     "output_type": "execute_result"
    }
   ],
   "source": [
    "df.isnull().any(axis=0)"
   ]
  },
  {
   "cell_type": "code",
   "execution_count": 21,
   "metadata": {},
   "outputs": [
    {
     "data": {
      "text/plain": [
       "(791186, 3)"
      ]
     },
     "execution_count": 21,
     "metadata": {},
     "output_type": "execute_result"
    }
   ],
   "source": [
    "df.shape"
   ]
  },
  {
   "cell_type": "code",
   "execution_count": 22,
   "metadata": {},
   "outputs": [
    {
     "data": {
      "text/plain": [
       "3    263844\n",
       "2    131927\n",
       "1    131859\n",
       "4    131842\n",
       "5    131714\n",
       "Name: overall, dtype: int64"
      ]
     },
     "execution_count": 22,
     "metadata": {},
     "output_type": "execute_result"
    }
   ],
   "source": [
    "df['overall'].value_counts()"
   ]
  },
  {
   "cell_type": "code",
   "execution_count": 23,
   "metadata": {},
   "outputs": [],
   "source": [
    "df = df[df['overall']!=3]"
   ]
  },
  {
   "cell_type": "code",
   "execution_count": 24,
   "metadata": {},
   "outputs": [
    {
     "data": {
      "text/plain": [
       "array([5, 4, 2, 1], dtype=int64)"
      ]
     },
     "execution_count": 24,
     "metadata": {},
     "output_type": "execute_result"
    }
   ],
   "source": [
    "df['overall'].unique()"
   ]
  },
  {
   "cell_type": "code",
   "execution_count": 25,
   "metadata": {},
   "outputs": [
    {
     "data": {
      "text/html": [
       "<div>\n",
       "<style scoped>\n",
       "    .dataframe tbody tr th:only-of-type {\n",
       "        vertical-align: middle;\n",
       "    }\n",
       "\n",
       "    .dataframe tbody tr th {\n",
       "        vertical-align: top;\n",
       "    }\n",
       "\n",
       "    .dataframe thead th {\n",
       "        text-align: right;\n",
       "    }\n",
       "</style>\n",
       "<table border=\"1\" class=\"dataframe\">\n",
       "  <thead>\n",
       "    <tr style=\"text-align: right;\">\n",
       "      <th></th>\n",
       "      <th>overall</th>\n",
       "      <th>reviewText</th>\n",
       "      <th>summary</th>\n",
       "    </tr>\n",
       "  </thead>\n",
       "  <tbody>\n",
       "    <tr>\n",
       "      <th>0</th>\n",
       "      <td>5</td>\n",
       "      <td>great shoes, i love them, they are really comf...</td>\n",
       "      <td>awesome product</td>\n",
       "    </tr>\n",
       "    <tr>\n",
       "      <th>1</th>\n",
       "      <td>5</td>\n",
       "      <td>The best shoe ever!</td>\n",
       "      <td>Five Stars</td>\n",
       "    </tr>\n",
       "    <tr>\n",
       "      <th>2</th>\n",
       "      <td>5</td>\n",
       "      <td>these are moccasins and in general moccasins d...</td>\n",
       "      <td>... general moccasins do not provide arch supp...</td>\n",
       "    </tr>\n",
       "    <tr>\n",
       "      <th>3</th>\n",
       "      <td>5</td>\n",
       "      <td>Look good and fit well. Seem durable so hoping...</td>\n",
       "      <td>Well made</td>\n",
       "    </tr>\n",
       "    <tr>\n",
       "      <th>4</th>\n",
       "      <td>5</td>\n",
       "      <td>Comfortable, stylish, just what I was looking ...</td>\n",
       "      <td>Great sandal</td>\n",
       "    </tr>\n",
       "  </tbody>\n",
       "</table>\n",
       "</div>"
      ],
      "text/plain": [
       "   overall                                         reviewText  \\\n",
       "0        5  great shoes, i love them, they are really comf...   \n",
       "1        5                                The best shoe ever!   \n",
       "2        5  these are moccasins and in general moccasins d...   \n",
       "3        5  Look good and fit well. Seem durable so hoping...   \n",
       "4        5  Comfortable, stylish, just what I was looking ...   \n",
       "\n",
       "                                             summary  \n",
       "0                                    awesome product  \n",
       "1                                         Five Stars  \n",
       "2  ... general moccasins do not provide arch supp...  \n",
       "3                                          Well made  \n",
       "4                                       Great sandal  "
      ]
     },
     "execution_count": 25,
     "metadata": {},
     "output_type": "execute_result"
    }
   ],
   "source": [
    "df.head()"
   ]
  },
  {
   "cell_type": "code",
   "execution_count": 26,
   "metadata": {},
   "outputs": [],
   "source": [
    "import numpy as np"
   ]
  },
  {
   "cell_type": "code",
   "execution_count": 27,
   "metadata": {},
   "outputs": [],
   "source": [
    "df['positivity']=np.where(df['overall']>3,1,0)"
   ]
  },
  {
   "cell_type": "code",
   "execution_count": 28,
   "metadata": {},
   "outputs": [
    {
     "data": {
      "text/html": [
       "<div>\n",
       "<style scoped>\n",
       "    .dataframe tbody tr th:only-of-type {\n",
       "        vertical-align: middle;\n",
       "    }\n",
       "\n",
       "    .dataframe tbody tr th {\n",
       "        vertical-align: top;\n",
       "    }\n",
       "\n",
       "    .dataframe thead th {\n",
       "        text-align: right;\n",
       "    }\n",
       "</style>\n",
       "<table border=\"1\" class=\"dataframe\">\n",
       "  <thead>\n",
       "    <tr style=\"text-align: right;\">\n",
       "      <th></th>\n",
       "      <th>overall</th>\n",
       "      <th>reviewText</th>\n",
       "      <th>summary</th>\n",
       "      <th>positivity</th>\n",
       "    </tr>\n",
       "  </thead>\n",
       "  <tbody>\n",
       "    <tr>\n",
       "      <th>0</th>\n",
       "      <td>5</td>\n",
       "      <td>great shoes, i love them, they are really comf...</td>\n",
       "      <td>awesome product</td>\n",
       "      <td>1</td>\n",
       "    </tr>\n",
       "    <tr>\n",
       "      <th>1</th>\n",
       "      <td>5</td>\n",
       "      <td>The best shoe ever!</td>\n",
       "      <td>Five Stars</td>\n",
       "      <td>1</td>\n",
       "    </tr>\n",
       "    <tr>\n",
       "      <th>2</th>\n",
       "      <td>5</td>\n",
       "      <td>these are moccasins and in general moccasins d...</td>\n",
       "      <td>... general moccasins do not provide arch supp...</td>\n",
       "      <td>1</td>\n",
       "    </tr>\n",
       "    <tr>\n",
       "      <th>3</th>\n",
       "      <td>5</td>\n",
       "      <td>Look good and fit well. Seem durable so hoping...</td>\n",
       "      <td>Well made</td>\n",
       "      <td>1</td>\n",
       "    </tr>\n",
       "    <tr>\n",
       "      <th>4</th>\n",
       "      <td>5</td>\n",
       "      <td>Comfortable, stylish, just what I was looking ...</td>\n",
       "      <td>Great sandal</td>\n",
       "      <td>1</td>\n",
       "    </tr>\n",
       "  </tbody>\n",
       "</table>\n",
       "</div>"
      ],
      "text/plain": [
       "   overall                                         reviewText  \\\n",
       "0        5  great shoes, i love them, they are really comf...   \n",
       "1        5                                The best shoe ever!   \n",
       "2        5  these are moccasins and in general moccasins d...   \n",
       "3        5  Look good and fit well. Seem durable so hoping...   \n",
       "4        5  Comfortable, stylish, just what I was looking ...   \n",
       "\n",
       "                                             summary  positivity  \n",
       "0                                    awesome product           1  \n",
       "1                                         Five Stars           1  \n",
       "2  ... general moccasins do not provide arch supp...           1  \n",
       "3                                          Well made           1  \n",
       "4                                       Great sandal           1  "
      ]
     },
     "execution_count": 28,
     "metadata": {},
     "output_type": "execute_result"
    }
   ],
   "source": [
    "df.head()"
   ]
  },
  {
   "cell_type": "code",
   "execution_count": 29,
   "metadata": {},
   "outputs": [
    {
     "data": {
      "text/plain": [
       "0    263786\n",
       "1    263556\n",
       "Name: positivity, dtype: int64"
      ]
     },
     "execution_count": 29,
     "metadata": {},
     "output_type": "execute_result"
    }
   ],
   "source": [
    "df['positivity'].value_counts()"
   ]
  },
  {
   "cell_type": "code",
   "execution_count": 30,
   "metadata": {},
   "outputs": [
    {
     "data": {
      "text/plain": [
       "(527342, 4)"
      ]
     },
     "execution_count": 30,
     "metadata": {},
     "output_type": "execute_result"
    }
   ],
   "source": [
    "df.shape"
   ]
  },
  {
   "cell_type": "code",
   "execution_count": 31,
   "metadata": {},
   "outputs": [
    {
     "data": {
      "text/plain": [
       "Index(['overall', 'reviewText', 'summary', 'positivity'], dtype='object')"
      ]
     },
     "execution_count": 31,
     "metadata": {},
     "output_type": "execute_result"
    }
   ],
   "source": [
    "df.columns"
   ]
  },
  {
   "cell_type": "code",
   "execution_count": 32,
   "metadata": {},
   "outputs": [],
   "source": [
    "features = df['reviewText']\n",
    "labels = df['positivity']"
   ]
  },
  {
   "cell_type": "code",
   "execution_count": 33,
   "metadata": {},
   "outputs": [],
   "source": [
    "from sklearn.model_selection import train_test_split"
   ]
  },
  {
   "cell_type": "code",
   "execution_count": 34,
   "metadata": {},
   "outputs": [],
   "source": [
    "features_train, features_test, labels_train, labels_test = train_test_split(df['reviewText'],df['positivity'],random_state = 42)"
   ]
  },
  {
   "cell_type": "code",
   "execution_count": 35,
   "metadata": {},
   "outputs": [
    {
     "data": {
      "text/plain": [
       "472612    0\n",
       "407335    0\n",
       "51030     1\n",
       "743018    0\n",
       "270130    1\n",
       "         ..\n",
       "308024    0\n",
       "356815    0\n",
       "287563    0\n",
       "485336    1\n",
       "66863     0\n",
       "Name: positivity, Length: 131836, dtype: int32"
      ]
     },
     "execution_count": 35,
     "metadata": {},
     "output_type": "execute_result"
    }
   ],
   "source": [
    "labels_test"
   ]
  },
  {
   "cell_type": "code",
   "execution_count": 36,
   "metadata": {},
   "outputs": [
    {
     "data": {
      "text/plain": [
       "333573    Just really wasn't what I was looking for it's...\n",
       "17660     One earring's ball tip is clearly larger than ...\n",
       "89255     Didn't come with good soles. Fell apart after ...\n",
       "194800                                        Awesome watch\n",
       "243604                  My podiatrist has recommended these\n",
       "307201                   I can never get a bando to stay up\n",
       "222846    I purchased this for my brother as an addition...\n",
       "390690    Nice belly ring. The color faded a little quic...\n",
       "72815                                     Perfect and warm!\n",
       "20892     I wear size 11 in every brand of sneaker. This...\n",
       "Name: reviewText, dtype: object"
      ]
     },
     "execution_count": 36,
     "metadata": {},
     "output_type": "execute_result"
    }
   ],
   "source": [
    "features_train[:10]"
   ]
  },
  {
   "cell_type": "code",
   "execution_count": 37,
   "metadata": {},
   "outputs": [],
   "source": [
    "from sklearn.feature_extraction.text import CountVectorizer"
   ]
  },
  {
   "cell_type": "code",
   "execution_count": 38,
   "metadata": {},
   "outputs": [],
   "source": [
    "vect=CountVectorizer().fit(features_train)"
   ]
  },
  {
   "cell_type": "code",
   "execution_count": 39,
   "metadata": {},
   "outputs": [
    {
     "data": {
      "text/plain": [
       "66756"
      ]
     },
     "execution_count": 39,
     "metadata": {},
     "output_type": "execute_result"
    }
   ],
   "source": [
    "len(vect.get_feature_names())"
   ]
  },
  {
   "cell_type": "code",
   "execution_count": 40,
   "metadata": {
    "scrolled": true
   },
   "outputs": [
    {
     "data": {
      "text/plain": [
       "['00',\n",
       " '34gs',\n",
       " 'a1ls8iseyws',\n",
       " 'and10',\n",
       " 'b00ealln42',\n",
       " 'blacklight',\n",
       " 'c1j22pxqcus',\n",
       " 'claddagh',\n",
       " 'cooperative',\n",
       " 'decorating',\n",
       " 'dm',\n",
       " 'enforce',\n",
       " 'feasibly',\n",
       " 'fulfil',\n",
       " 'guilt',\n",
       " 'huckberry',\n",
       " 'irrepressible',\n",
       " 'lakewood',\n",
       " 'luster',\n",
       " 'miscellaneous',\n",
       " 'nighted',\n",
       " 'outfitter',\n",
       " 'pieces',\n",
       " 'prone',\n",
       " 'redirect',\n",
       " 'rosses',\n",
       " 'sex',\n",
       " 'smfh',\n",
       " 'stihl',\n",
       " 'taps',\n",
       " 'torward',\n",
       " 'universe',\n",
       " 'wana',\n",
       " 'xc']"
      ]
     },
     "execution_count": 40,
     "metadata": {},
     "output_type": "execute_result"
    }
   ],
   "source": [
    "vect.get_feature_names()[::2000]"
   ]
  },
  {
   "cell_type": "code",
   "execution_count": 41,
   "metadata": {},
   "outputs": [],
   "source": [
    "features_train_vectorized = vect.transform(features_train)"
   ]
  },
  {
   "cell_type": "code",
   "execution_count": 42,
   "metadata": {
    "collapsed": true
   },
   "outputs": [
    {
     "ename": "MemoryError",
     "evalue": "Unable to allocate 197. GiB for an array with shape (395506, 66756) and data type int64",
     "output_type": "error",
     "traceback": [
      "\u001b[1;31m---------------------------------------------------------------------------\u001b[0m",
      "\u001b[1;31mMemoryError\u001b[0m                               Traceback (most recent call last)",
      "\u001b[1;32m<ipython-input-42-eceb9cce48d3>\u001b[0m in \u001b[0;36m<module>\u001b[1;34m\u001b[0m\n\u001b[1;32m----> 1\u001b[1;33m \u001b[0mfeatures_train_vectorized\u001b[0m\u001b[1;33m.\u001b[0m\u001b[0mtoarray\u001b[0m\u001b[1;33m(\u001b[0m\u001b[1;33m)\u001b[0m\u001b[1;33m\u001b[0m\u001b[1;33m\u001b[0m\u001b[0m\n\u001b[0m",
      "\u001b[1;32mC:\\ProgramData\\Anaconda3\\lib\\site-packages\\scipy\\sparse\\compressed.py\u001b[0m in \u001b[0;36mtoarray\u001b[1;34m(self, order, out)\u001b[0m\n\u001b[0;32m   1023\u001b[0m         \u001b[1;32mif\u001b[0m \u001b[0mout\u001b[0m \u001b[1;32mis\u001b[0m \u001b[1;32mNone\u001b[0m \u001b[1;32mand\u001b[0m \u001b[0morder\u001b[0m \u001b[1;32mis\u001b[0m \u001b[1;32mNone\u001b[0m\u001b[1;33m:\u001b[0m\u001b[1;33m\u001b[0m\u001b[1;33m\u001b[0m\u001b[0m\n\u001b[0;32m   1024\u001b[0m             \u001b[0morder\u001b[0m \u001b[1;33m=\u001b[0m \u001b[0mself\u001b[0m\u001b[1;33m.\u001b[0m\u001b[0m_swap\u001b[0m\u001b[1;33m(\u001b[0m\u001b[1;34m'cf'\u001b[0m\u001b[1;33m)\u001b[0m\u001b[1;33m[\u001b[0m\u001b[1;36m0\u001b[0m\u001b[1;33m]\u001b[0m\u001b[1;33m\u001b[0m\u001b[1;33m\u001b[0m\u001b[0m\n\u001b[1;32m-> 1025\u001b[1;33m         \u001b[0mout\u001b[0m \u001b[1;33m=\u001b[0m \u001b[0mself\u001b[0m\u001b[1;33m.\u001b[0m\u001b[0m_process_toarray_args\u001b[0m\u001b[1;33m(\u001b[0m\u001b[0morder\u001b[0m\u001b[1;33m,\u001b[0m \u001b[0mout\u001b[0m\u001b[1;33m)\u001b[0m\u001b[1;33m\u001b[0m\u001b[1;33m\u001b[0m\u001b[0m\n\u001b[0m\u001b[0;32m   1026\u001b[0m         \u001b[1;32mif\u001b[0m \u001b[1;32mnot\u001b[0m \u001b[1;33m(\u001b[0m\u001b[0mout\u001b[0m\u001b[1;33m.\u001b[0m\u001b[0mflags\u001b[0m\u001b[1;33m.\u001b[0m\u001b[0mc_contiguous\u001b[0m \u001b[1;32mor\u001b[0m \u001b[0mout\u001b[0m\u001b[1;33m.\u001b[0m\u001b[0mflags\u001b[0m\u001b[1;33m.\u001b[0m\u001b[0mf_contiguous\u001b[0m\u001b[1;33m)\u001b[0m\u001b[1;33m:\u001b[0m\u001b[1;33m\u001b[0m\u001b[1;33m\u001b[0m\u001b[0m\n\u001b[0;32m   1027\u001b[0m             \u001b[1;32mraise\u001b[0m \u001b[0mValueError\u001b[0m\u001b[1;33m(\u001b[0m\u001b[1;34m'Output array must be C or F contiguous'\u001b[0m\u001b[1;33m)\u001b[0m\u001b[1;33m\u001b[0m\u001b[1;33m\u001b[0m\u001b[0m\n",
      "\u001b[1;32mC:\\ProgramData\\Anaconda3\\lib\\site-packages\\scipy\\sparse\\base.py\u001b[0m in \u001b[0;36m_process_toarray_args\u001b[1;34m(self, order, out)\u001b[0m\n\u001b[0;32m   1187\u001b[0m             \u001b[1;32mreturn\u001b[0m \u001b[0mout\u001b[0m\u001b[1;33m\u001b[0m\u001b[1;33m\u001b[0m\u001b[0m\n\u001b[0;32m   1188\u001b[0m         \u001b[1;32melse\u001b[0m\u001b[1;33m:\u001b[0m\u001b[1;33m\u001b[0m\u001b[1;33m\u001b[0m\u001b[0m\n\u001b[1;32m-> 1189\u001b[1;33m             \u001b[1;32mreturn\u001b[0m \u001b[0mnp\u001b[0m\u001b[1;33m.\u001b[0m\u001b[0mzeros\u001b[0m\u001b[1;33m(\u001b[0m\u001b[0mself\u001b[0m\u001b[1;33m.\u001b[0m\u001b[0mshape\u001b[0m\u001b[1;33m,\u001b[0m \u001b[0mdtype\u001b[0m\u001b[1;33m=\u001b[0m\u001b[0mself\u001b[0m\u001b[1;33m.\u001b[0m\u001b[0mdtype\u001b[0m\u001b[1;33m,\u001b[0m \u001b[0morder\u001b[0m\u001b[1;33m=\u001b[0m\u001b[0morder\u001b[0m\u001b[1;33m)\u001b[0m\u001b[1;33m\u001b[0m\u001b[1;33m\u001b[0m\u001b[0m\n\u001b[0m\u001b[0;32m   1190\u001b[0m \u001b[1;33m\u001b[0m\u001b[0m\n\u001b[0;32m   1191\u001b[0m \u001b[1;33m\u001b[0m\u001b[0m\n",
      "\u001b[1;31mMemoryError\u001b[0m: Unable to allocate 197. GiB for an array with shape (395506, 66756) and data type int64"
     ]
    }
   ],
   "source": [
    "features_train_vectorized.toarray()"
   ]
  },
  {
   "cell_type": "code",
   "execution_count": 55,
   "metadata": {},
   "outputs": [],
   "source": [
    "#classifier model = KNN, LogisticRegression, SVM, NaiveBayes\n",
    "#High dimension data"
   ]
  },
  {
   "cell_type": "code",
   "execution_count": 43,
   "metadata": {},
   "outputs": [],
   "source": [
    "from sklearn.linear_model import LogisticRegression\n",
    "# Lr works good for high dimensional sparse data"
   ]
  },
  {
   "cell_type": "code",
   "execution_count": 44,
   "metadata": {},
   "outputs": [],
   "source": [
    "model = LogisticRegression()"
   ]
  },
  {
   "cell_type": "code",
   "execution_count": 45,
   "metadata": {},
   "outputs": [
    {
     "name": "stderr",
     "output_type": "stream",
     "text": [
      "C:\\ProgramData\\Anaconda3\\lib\\site-packages\\sklearn\\linear_model\\_logistic.py:940: ConvergenceWarning: lbfgs failed to converge (status=1):\n",
      "STOP: TOTAL NO. of ITERATIONS REACHED LIMIT.\n",
      "\n",
      "Increase the number of iterations (max_iter) or scale the data as shown in:\n",
      "    https://scikit-learn.org/stable/modules/preprocessing.html\n",
      "Please also refer to the documentation for alternative solver options:\n",
      "    https://scikit-learn.org/stable/modules/linear_model.html#logistic-regression\n",
      "  extra_warning_msg=_LOGISTIC_SOLVER_CONVERGENCE_MSG)\n"
     ]
    },
    {
     "data": {
      "text/plain": [
       "LogisticRegression(C=1.0, class_weight=None, dual=False, fit_intercept=True,\n",
       "                   intercept_scaling=1, l1_ratio=None, max_iter=100,\n",
       "                   multi_class='auto', n_jobs=None, penalty='l2',\n",
       "                   random_state=None, solver='lbfgs', tol=0.0001, verbose=0,\n",
       "                   warm_start=False)"
      ]
     },
     "execution_count": 45,
     "metadata": {},
     "output_type": "execute_result"
    }
   ],
   "source": [
    "model.fit(features_train_vectorized, labels_train)"
   ]
  },
  {
   "cell_type": "code",
   "execution_count": 46,
   "metadata": {},
   "outputs": [],
   "source": [
    "from sklearn.metrics import roc_auc_score"
   ]
  },
  {
   "cell_type": "code",
   "execution_count": 47,
   "metadata": {},
   "outputs": [],
   "source": [
    "predictions = model.predict(vect.transform(features_test))"
   ]
  },
  {
   "cell_type": "code",
   "execution_count": 48,
   "metadata": {},
   "outputs": [
    {
     "data": {
      "text/plain": [
       "array([0, 0, 1, ..., 0, 1, 0])"
      ]
     },
     "execution_count": 48,
     "metadata": {},
     "output_type": "execute_result"
    }
   ],
   "source": [
    "predictions"
   ]
  },
  {
   "cell_type": "code",
   "execution_count": 49,
   "metadata": {},
   "outputs": [
    {
     "data": {
      "text/plain": [
       "0.8986008784288729"
      ]
     },
     "execution_count": 49,
     "metadata": {},
     "output_type": "execute_result"
    }
   ],
   "source": [
    "roc_auc_score(labels_test, predictions)"
   ]
  },
  {
   "cell_type": "code",
   "execution_count": 63,
   "metadata": {},
   "outputs": [],
   "source": [
    "from sklearn.metrics import confusion_matrix"
   ]
  },
  {
   "cell_type": "code",
   "execution_count": 64,
   "metadata": {},
   "outputs": [
    {
     "data": {
      "text/plain": [
       "array([[59329,  6670],\n",
       "       [ 6698, 59139]], dtype=int64)"
      ]
     },
     "execution_count": 64,
     "metadata": {},
     "output_type": "execute_result"
    }
   ],
   "source": [
    "confusion_matrix(labels_test, predictions)"
   ]
  },
  {
   "cell_type": "code",
   "execution_count": 65,
   "metadata": {},
   "outputs": [],
   "source": [
    "#moving back to data cleaning activity\n",
    "import nltk"
   ]
  },
  {
   "cell_type": "code",
   "execution_count": 66,
   "metadata": {},
   "outputs": [
    {
     "name": "stderr",
     "output_type": "stream",
     "text": [
      "[nltk_data] Error loading stopwords: <urlopen error [Errno 11001]\n",
      "[nltk_data]     getaddrinfo failed>\n"
     ]
    },
    {
     "data": {
      "text/plain": [
       "False"
      ]
     },
     "execution_count": 66,
     "metadata": {},
     "output_type": "execute_result"
    }
   ],
   "source": [
    "nltk.download('stopwords')"
   ]
  },
  {
   "cell_type": "code",
   "execution_count": 67,
   "metadata": {},
   "outputs": [],
   "source": [
    "from nltk.corpus import stopwords"
   ]
  },
  {
   "cell_type": "code",
   "execution_count": 68,
   "metadata": {},
   "outputs": [],
   "source": [
    "from nltk.stem.porter import PorterStemmer"
   ]
  },
  {
   "cell_type": "code",
   "execution_count": 69,
   "metadata": {},
   "outputs": [],
   "source": [
    "import re #regular expressions"
   ]
  },
  {
   "cell_type": "code",
   "execution_count": 70,
   "metadata": {},
   "outputs": [
    {
     "data": {
      "text/plain": [
       "'great shoes, i love them, they are really comfortable and i would definitely recommend them to people who have problems with regular shoes and back pain.'"
      ]
     },
     "execution_count": 70,
     "metadata": {},
     "output_type": "execute_result"
    }
   ],
   "source": [
    "df['reviewText'][0]"
   ]
  },
  {
   "cell_type": "code",
   "execution_count": 71,
   "metadata": {},
   "outputs": [
    {
     "data": {
      "text/html": [
       "<div>\n",
       "<style scoped>\n",
       "    .dataframe tbody tr th:only-of-type {\n",
       "        vertical-align: middle;\n",
       "    }\n",
       "\n",
       "    .dataframe tbody tr th {\n",
       "        vertical-align: top;\n",
       "    }\n",
       "\n",
       "    .dataframe thead th {\n",
       "        text-align: right;\n",
       "    }\n",
       "</style>\n",
       "<table border=\"1\" class=\"dataframe\">\n",
       "  <thead>\n",
       "    <tr style=\"text-align: right;\">\n",
       "      <th></th>\n",
       "      <th>overall</th>\n",
       "      <th>reviewText</th>\n",
       "      <th>summary</th>\n",
       "      <th>positivity</th>\n",
       "    </tr>\n",
       "  </thead>\n",
       "  <tbody>\n",
       "    <tr>\n",
       "      <th>0</th>\n",
       "      <td>5</td>\n",
       "      <td>great shoes, i love them, they are really comf...</td>\n",
       "      <td>awesome product</td>\n",
       "      <td>1</td>\n",
       "    </tr>\n",
       "  </tbody>\n",
       "</table>\n",
       "</div>"
      ],
      "text/plain": [
       "   overall                                         reviewText  \\\n",
       "0        5  great shoes, i love them, they are really comf...   \n",
       "\n",
       "           summary  positivity  \n",
       "0  awesome product           1  "
      ]
     },
     "execution_count": 71,
     "metadata": {},
     "output_type": "execute_result"
    }
   ],
   "source": [
    "df.head(1)"
   ]
  },
  {
   "cell_type": "code",
   "execution_count": 72,
   "metadata": {},
   "outputs": [
    {
     "data": {
      "text/plain": [
       "0    great shoes, i love them, they are really comf...\n",
       "1                                  The best shoe ever!\n",
       "2    these are moccasins and in general moccasins d...\n",
       "3    Look good and fit well. Seem durable so hoping...\n",
       "4    Comfortable, stylish, just what I was looking ...\n",
       "Name: reviewText, dtype: object"
      ]
     },
     "execution_count": 72,
     "metadata": {},
     "output_type": "execute_result"
    }
   ],
   "source": [
    "df.reviewText.head(5)"
   ]
  },
  {
   "cell_type": "code",
   "execution_count": 73,
   "metadata": {},
   "outputs": [],
   "source": [
    "review = re.sub('[^a-zA-Z]',' ',df['reviewText'][0])"
   ]
  },
  {
   "cell_type": "code",
   "execution_count": 74,
   "metadata": {},
   "outputs": [
    {
     "data": {
      "text/plain": [
       "'great shoes  i love them  they are really comfortable and i would definitely recommend them to people who have problems with regular shoes and back pain '"
      ]
     },
     "execution_count": 74,
     "metadata": {},
     "output_type": "execute_result"
    }
   ],
   "source": [
    "review"
   ]
  },
  {
   "cell_type": "code",
   "execution_count": 75,
   "metadata": {},
   "outputs": [],
   "source": [
    "review = review.lower()"
   ]
  },
  {
   "cell_type": "code",
   "execution_count": 76,
   "metadata": {},
   "outputs": [],
   "source": [
    "review = review.split()"
   ]
  },
  {
   "cell_type": "code",
   "execution_count": 77,
   "metadata": {},
   "outputs": [
    {
     "data": {
      "text/plain": [
       "['great',\n",
       " 'shoes',\n",
       " 'i',\n",
       " 'love',\n",
       " 'them',\n",
       " 'they',\n",
       " 'are',\n",
       " 'really',\n",
       " 'comfortable',\n",
       " 'and',\n",
       " 'i',\n",
       " 'would',\n",
       " 'definitely',\n",
       " 'recommend',\n",
       " 'them',\n",
       " 'to',\n",
       " 'people',\n",
       " 'who',\n",
       " 'have',\n",
       " 'problems',\n",
       " 'with',\n",
       " 'regular',\n",
       " 'shoes',\n",
       " 'and',\n",
       " 'back',\n",
       " 'pain']"
      ]
     },
     "execution_count": 77,
     "metadata": {},
     "output_type": "execute_result"
    }
   ],
   "source": [
    "review"
   ]
  },
  {
   "cell_type": "code",
   "execution_count": 78,
   "metadata": {},
   "outputs": [],
   "source": [
    "review = [word for word in review if not word in set(stopwords.words('english'))]"
   ]
  },
  {
   "cell_type": "code",
   "execution_count": 79,
   "metadata": {},
   "outputs": [
    {
     "data": {
      "text/plain": [
       "['great',\n",
       " 'shoes',\n",
       " 'love',\n",
       " 'really',\n",
       " 'comfortable',\n",
       " 'would',\n",
       " 'definitely',\n",
       " 'recommend',\n",
       " 'people',\n",
       " 'problems',\n",
       " 'regular',\n",
       " 'shoes',\n",
       " 'back',\n",
       " 'pain']"
      ]
     },
     "execution_count": 79,
     "metadata": {},
     "output_type": "execute_result"
    }
   ],
   "source": [
    "review"
   ]
  },
  {
   "cell_type": "code",
   "execution_count": 80,
   "metadata": {},
   "outputs": [],
   "source": [
    "review.append('very')"
   ]
  },
  {
   "cell_type": "code",
   "execution_count": 81,
   "metadata": {},
   "outputs": [
    {
     "data": {
      "text/plain": [
       "['great',\n",
       " 'shoes',\n",
       " 'love',\n",
       " 'really',\n",
       " 'comfortable',\n",
       " 'would',\n",
       " 'definitely',\n",
       " 'recommend',\n",
       " 'people',\n",
       " 'problems',\n",
       " 'regular',\n",
       " 'shoes',\n",
       " 'back',\n",
       " 'pain',\n",
       " 'very']"
      ]
     },
     "execution_count": 81,
     "metadata": {},
     "output_type": "execute_result"
    }
   ],
   "source": [
    "review"
   ]
  },
  {
   "cell_type": "code",
   "execution_count": 82,
   "metadata": {},
   "outputs": [],
   "source": [
    "review = [word for word in review if not word in set(stopwords.words('english'))]"
   ]
  },
  {
   "cell_type": "code",
   "execution_count": 83,
   "metadata": {},
   "outputs": [
    {
     "data": {
      "text/plain": [
       "['great',\n",
       " 'shoes',\n",
       " 'love',\n",
       " 'really',\n",
       " 'comfortable',\n",
       " 'would',\n",
       " 'definitely',\n",
       " 'recommend',\n",
       " 'people',\n",
       " 'problems',\n",
       " 'regular',\n",
       " 'shoes',\n",
       " 'back',\n",
       " 'pain']"
      ]
     },
     "execution_count": 83,
     "metadata": {},
     "output_type": "execute_result"
    }
   ],
   "source": [
    "review"
   ]
  },
  {
   "cell_type": "code",
   "execution_count": 84,
   "metadata": {},
   "outputs": [],
   "source": [
    "ps = PorterStemmer()"
   ]
  },
  {
   "cell_type": "code",
   "execution_count": 85,
   "metadata": {},
   "outputs": [],
   "source": [
    "review = [ps.stem(word) for word in review]"
   ]
  },
  {
   "cell_type": "code",
   "execution_count": 86,
   "metadata": {},
   "outputs": [
    {
     "data": {
      "text/plain": [
       "['great',\n",
       " 'shoe',\n",
       " 'love',\n",
       " 'realli',\n",
       " 'comfort',\n",
       " 'would',\n",
       " 'definit',\n",
       " 'recommend',\n",
       " 'peopl',\n",
       " 'problem',\n",
       " 'regular',\n",
       " 'shoe',\n",
       " 'back',\n",
       " 'pain']"
      ]
     },
     "execution_count": 86,
     "metadata": {},
     "output_type": "execute_result"
    }
   ],
   "source": [
    "review"
   ]
  },
  {
   "cell_type": "code",
   "execution_count": 87,
   "metadata": {},
   "outputs": [],
   "source": [
    "review=\" \".join(review)"
   ]
  },
  {
   "cell_type": "code",
   "execution_count": 88,
   "metadata": {},
   "outputs": [
    {
     "data": {
      "text/plain": [
       "'great shoe love realli comfort would definit recommend peopl problem regular shoe back pain'"
      ]
     },
     "execution_count": 88,
     "metadata": {},
     "output_type": "execute_result"
    }
   ],
   "source": [
    "review"
   ]
  },
  {
   "cell_type": "code",
   "execution_count": 90,
   "metadata": {},
   "outputs": [
    {
     "data": {
      "text/plain": [
       "(527342, 4)"
      ]
     },
     "execution_count": 90,
     "metadata": {},
     "output_type": "execute_result"
    }
   ],
   "source": [
    "df.shape"
   ]
  },
  {
   "cell_type": "code",
   "execution_count": 115,
   "metadata": {},
   "outputs": [],
   "source": [
    "corpus = []\n",
    "\n",
    "for i in range(0, 527342):\n",
    "    review = re.sub('[^a-zA-Z]',' ', df.iloc[i,1])\n",
    "    \n",
    "    review = review.lower()\n",
    "    \n",
    "    review = review.split()\n",
    "    \n",
    "    review = [word for word in review if not word in set(stopwords.words('english'))]\n",
    "    \n",
    "    \n",
    "    ps = PorterStemmer()\n",
    "    \n",
    "    review = [ps.stem(word) for word in review ]\n",
    "    \n",
    "    review = \" \".join(review)\n",
    "    \n",
    "    corpus.append(review)"
   ]
  },
  {
   "cell_type": "code",
   "execution_count": 116,
   "metadata": {},
   "outputs": [],
   "source": [
    "from sklearn.feature_extraction.text import CountVectorizer"
   ]
  },
  {
   "cell_type": "code",
   "execution_count": 119,
   "metadata": {},
   "outputs": [],
   "source": [
    "features = CountVectorizer().fit_transform(corpus)"
   ]
  },
  {
   "cell_type": "code",
   "execution_count": 120,
   "metadata": {},
   "outputs": [],
   "source": [
    "labels = df.iloc[:, 3] \n",
    "\n",
    "#teain test spplit\n",
    "features_train, features_test, labels_train, labels_test = train_test_split(features, labels, random_state = 42)"
   ]
  },
  {
   "cell_type": "code",
   "execution_count": 121,
   "metadata": {},
   "outputs": [
    {
     "name": "stderr",
     "output_type": "stream",
     "text": [
      "C:\\ProgramData\\Anaconda3\\lib\\site-packages\\sklearn\\linear_model\\_logistic.py:940: ConvergenceWarning: lbfgs failed to converge (status=1):\n",
      "STOP: TOTAL NO. of ITERATIONS REACHED LIMIT.\n",
      "\n",
      "Increase the number of iterations (max_iter) or scale the data as shown in:\n",
      "    https://scikit-learn.org/stable/modules/preprocessing.html\n",
      "Please also refer to the documentation for alternative solver options:\n",
      "    https://scikit-learn.org/stable/modules/linear_model.html#logistic-regression\n",
      "  extra_warning_msg=_LOGISTIC_SOLVER_CONVERGENCE_MSG)\n"
     ]
    },
    {
     "data": {
      "text/plain": [
       "LogisticRegression(C=1.0, class_weight=None, dual=False, fit_intercept=True,\n",
       "                   intercept_scaling=1, l1_ratio=None, max_iter=100,\n",
       "                   multi_class='auto', n_jobs=None, penalty='l2',\n",
       "                   random_state=None, solver='lbfgs', tol=0.0001, verbose=0,\n",
       "                   warm_start=False)"
      ]
     },
     "execution_count": 121,
     "metadata": {},
     "output_type": "execute_result"
    }
   ],
   "source": [
    "#model\n",
    "from sklearn.linear_model import LogisticRegression\n",
    "\n",
    "model = LogisticRegression()\n",
    "model.fit(features_train, labels_train)\n"
   ]
  },
  {
   "cell_type": "code",
   "execution_count": 123,
   "metadata": {},
   "outputs": [
    {
     "data": {
      "text/plain": [
       "0.8764426374535461"
      ]
     },
     "execution_count": 123,
     "metadata": {},
     "output_type": "execute_result"
    }
   ],
   "source": [
    "#score\n",
    "from sklearn.metrics import roc_auc_score\n",
    "\n",
    "predictions = model.predict(features_test)\n",
    "\n",
    "roc_auc_score(labels_test, predictions)"
   ]
  },
  {
   "cell_type": "code",
   "execution_count": 38,
   "metadata": {},
   "outputs": [],
   "source": [
    "#version 03\n",
    "#TF_IDF (term frequency-inverse document frequency)\n",
    "\n",
    "\n",
    "from sklearn.model_selection import train_test_split\n",
    "\n",
    "features_train, features_test, labels_train, labels_test = train_test_split(df['reviewText'], df['positivity'], random_state = 42)"
   ]
  },
  {
   "cell_type": "code",
   "execution_count": 39,
   "metadata": {},
   "outputs": [],
   "source": [
    "from sklearn.feature_extraction.text import TfidfVectorizer\n",
    "\n",
    "\n",
    "vect = TfidfVectorizer(min_df = 5).fit(features_train)\n",
    "vect.vocabulary_\n",
    "features_train_vectorized = vect.transform(features_train)"
   ]
  },
  {
   "cell_type": "code",
   "execution_count": 40,
   "metadata": {},
   "outputs": [
    {
     "data": {
      "text/plain": [
       "{'just': 9418,\n",
       " 'really': 13554,\n",
       " 'wasn': 18706,\n",
       " 'what': 18886,\n",
       " 'was': 18695,\n",
       " 'looking': 10143,\n",
       " 'for': 7153,\n",
       " 'it': 9192,\n",
       " 'an': 1395,\n",
       " 'iron': 9150,\n",
       " 'on': 11694,\n",
       " 'stencil': 16194,\n",
       " 'one': 11698,\n",
       " 'earring': 5889,\n",
       " 'ball': 1973,\n",
       " 'tip': 17345,\n",
       " 'is': 9174,\n",
       " 'clearly': 3668,\n",
       " 'larger': 9709,\n",
       " 'than': 17082,\n",
       " 'the': 17096,\n",
       " 'other': 11849,\n",
       " 'appears': 1534,\n",
       " 'measures': 10594,\n",
       " 'mm': 10927,\n",
       " 'and': 1408,\n",
       " '25': 345,\n",
       " 'am': 1345,\n",
       " 'disappointed': 5338,\n",
       " 'in': 8769,\n",
       " 'won': 19085,\n",
       " 'be': 2113,\n",
       " 'ordering': 11784,\n",
       " 'again': 1165,\n",
       " 'future': 7397,\n",
       " 'didn': 5231,\n",
       " 'come': 3883,\n",
       " 'with': 19048,\n",
       " 'good': 7697,\n",
       " 'soles': 15734,\n",
       " 'fell': 6762,\n",
       " 'apart': 1504,\n",
       " 'after': 1156,\n",
       " 'few': 6786,\n",
       " 'months': 11011,\n",
       " 'of': 11626,\n",
       " 'use': 18269,\n",
       " 'awesome': 1876,\n",
       " 'watch': 18718,\n",
       " 'my': 11176,\n",
       " 'podiatrist': 12706,\n",
       " 'has': 8117,\n",
       " 'recommended': 13633,\n",
       " 'these': 17129,\n",
       " 'can': 3101,\n",
       " 'never': 11340,\n",
       " 'get': 7547,\n",
       " 'to': 17380,\n",
       " 'stay': 16165,\n",
       " 'up': 18207,\n",
       " 'purchased': 13266,\n",
       " 'this': 17179,\n",
       " 'brother': 2820,\n",
       " 'as': 1670,\n",
       " 'additional': 1041,\n",
       " 'christmas': 3555,\n",
       " 'present': 12959,\n",
       " 'kind': 9520,\n",
       " 'hard': 8091,\n",
       " 'find': 6849,\n",
       " 'zippered': 19355,\n",
       " 'wallet': 18631,\n",
       " 'that': 17092,\n",
       " 'holds': 8400,\n",
       " 'multiple': 11134,\n",
       " 'cards': 3164,\n",
       " 'still': 16238,\n",
       " 'have': 8141,\n",
       " 'not': 11471,\n",
       " 'received': 13588,\n",
       " 'yet': 19294,\n",
       " 'but': 2992,\n",
       " 'so': 15680,\n",
       " 'much': 11109,\n",
       " 'searching': 14791,\n",
       " 'finally': 6847,\n",
       " 'think': 17161,\n",
       " 'found': 7220,\n",
       " 'best': 2275,\n",
       " 'choice': 3528,\n",
       " 'thanks': 17088,\n",
       " 'seller': 14861,\n",
       " 'amazon': 1358,\n",
       " 'nice': 11363,\n",
       " 'belly': 2236,\n",
       " 'ring': 14217,\n",
       " 'color': 3850,\n",
       " 'faded': 6608,\n",
       " 'little': 10051,\n",
       " 'quickly': 13362,\n",
       " 'looked': 10140,\n",
       " 'would': 19162,\n",
       " 'buy': 3015,\n",
       " 'another': 1457,\n",
       " 'because': 2167,\n",
       " 'looks': 10145,\n",
       " 'perfect': 12350,\n",
       " 'warm': 18664,\n",
       " 'wear': 18777,\n",
       " 'size': 15335,\n",
       " '11': 47,\n",
       " 'every': 6353,\n",
       " 'brand': 2709,\n",
       " 'sneaker': 15633,\n",
       " '1st': 270,\n",
       " 'time': 17312,\n",
       " 'buying': 3020,\n",
       " 'saucony': 14599,\n",
       " 'wanted': 18650,\n",
       " 'pair': 12051,\n",
       " 'orange': 11771,\n",
       " 'sneakers': 15634,\n",
       " 'got': 7726,\n",
       " 'very': 18432,\n",
       " 'excited': 6416,\n",
       " 've': 18366,\n",
       " 'returned': 14114,\n",
       " 'item': 9205,\n",
       " 'return': 14112,\n",
       " 'look': 10139,\n",
       " 'options': 11768,\n",
       " 'difficult': 5256,\n",
       " 'finding': 6850,\n",
       " 'bright': 2776,\n",
       " 'at': 1742,\n",
       " 'such': 16518,\n",
       " 'decent': 4900,\n",
       " 'price': 12998,\n",
       " 'however': 8518,\n",
       " 'now': 11511,\n",
       " 'know': 9595,\n",
       " 'why': 18948,\n",
       " 'reduced': 13682,\n",
       " 'dull': 5810,\n",
       " 'greenish': 7845,\n",
       " 'blue': 2482,\n",
       " 'nothing': 11485,\n",
       " 'like': 9962,\n",
       " 'picture': 12490,\n",
       " 'or': 11770,\n",
       " 'doll': 5575,\n",
       " 'she': 15032,\n",
       " 'hair': 8001,\n",
       " 'even': 6340,\n",
       " 'close': 3721,\n",
       " 'rest': 14046,\n",
       " 'outfit': 11873,\n",
       " 'fine': 6853,\n",
       " 'returning': 14115,\n",
       " 'comes': 3886,\n",
       " 'smaller': 15541,\n",
       " 'requested': 13956,\n",
       " 'strap': 16324,\n",
       " 'broke': 2807,\n",
       " 'wearing': 18785,\n",
       " 'two': 17846,\n",
       " 'days': 4851,\n",
       " 'boots': 2590,\n",
       " 'are': 1596,\n",
       " 'comfortable': 3897,\n",
       " 'ive': 9218,\n",
       " 'only': 11707,\n",
       " 'had': 7985,\n",
       " 'them': 17104,\n",
       " 'lose': 10177,\n",
       " 'shoestring': 15129,\n",
       " 'hooks': 8448,\n",
       " 'they': 17133,\n",
       " 'appear': 1528,\n",
       " 'poor': 12786,\n",
       " 'quality': 13331,\n",
       " 'pleasantly': 12655,\n",
       " 'surprised': 16657,\n",
       " 'speed': 15902,\n",
       " 'delivery': 5031,\n",
       " 'its': 9213,\n",
       " 'pretty': 12987,\n",
       " 'love': 10204,\n",
       " 'design': 5114,\n",
       " 'fits': 6913,\n",
       " 'glove': 7647,\n",
       " 'almost': 1306,\n",
       " 'curve': 4693,\n",
       " 'finger': 6858,\n",
       " 'silver': 15272,\n",
       " 'accents': 913,\n",
       " 'around': 1634,\n",
       " 'sorta': 15798,\n",
       " 'thought': 17197,\n",
       " 'tiny': 17344,\n",
       " 'you': 19309,\n",
       " 'definately': 4975,\n",
       " 'see': 14825,\n",
       " 'amber': 1361,\n",
       " 'impressive': 8753,\n",
       " 'using': 18281,\n",
       " 'chart': 3404,\n",
       " 'ordered': 11782,\n",
       " 'normally': 11455,\n",
       " 'runs': 14432,\n",
       " 'small': 15540,\n",
       " 'both': 2615,\n",
       " 'sizes': 15344,\n",
       " 'bc': 2105,\n",
       " 'were': 18868,\n",
       " 'too': 17433,\n",
       " 'super': 16594,\n",
       " 'bummed': 2920,\n",
       " 'dress': 5722,\n",
       " 'great': 7832,\n",
       " 'fit': 6906,\n",
       " 'sturdy': 16459,\n",
       " 'fabric': 6574,\n",
       " 'ever': 6349,\n",
       " 'pants': 12094,\n",
       " 'tighter': 17291,\n",
       " 'ua': 17859,\n",
       " 'length': 9860,\n",
       " 'also': 1319,\n",
       " 'short': 15148,\n",
       " '34': 458,\n",
       " 'jeans': 9282,\n",
       " 'feel': 6755,\n",
       " 'though': 17196,\n",
       " 'floods': 7040,\n",
       " 'when': 18901,\n",
       " 'aweful': 1875,\n",
       " 'bow': 2652,\n",
       " 'differs': 5255,\n",
       " 'type': 17851,\n",
       " 'texture': 17068,\n",
       " 'stitching': 16255,\n",
       " 'visible': 18508,\n",
       " 'month': 11009,\n",
       " 'old': 11674,\n",
       " 'who': 18932,\n",
       " 'walking': 18624,\n",
       " 'beginning': 2205,\n",
       " 'run': 14427,\n",
       " 'flexible': 7007,\n",
       " 'grip': 7865,\n",
       " 'bottom': 2625,\n",
       " 'make': 10367,\n",
       " 'easier': 5897,\n",
       " 'track': 17542,\n",
       " 'his': 8365,\n",
       " 'movements': 11089,\n",
       " 'throughout': 17230,\n",
       " 'house': 8505,\n",
       " 'which': 18910,\n",
       " 'helpful': 8252,\n",
       " 'trying': 17741,\n",
       " 'multi': 11129,\n",
       " 'task': 16911,\n",
       " 'reason': 13565,\n",
       " 'give': 7597,\n",
       " 'stars': 16137,\n",
       " 'bit': 2367,\n",
       " 'narrow': 11214,\n",
       " 'through': 17228,\n",
       " 'toe': 17391,\n",
       " 'box': 2662,\n",
       " 'beautiful': 2156,\n",
       " 'if': 8654,\n",
       " 'no': 11417,\n",
       " 'bust': 2983,\n",
       " 'top': 17451,\n",
       " 'way': 18751,\n",
       " 'tight': 17286,\n",
       " 'junk': 9412,\n",
       " 'boot': 2582,\n",
       " 'working': 19128,\n",
       " 'will': 18987,\n",
       " 'hold': 8396,\n",
       " 'indication': 8855,\n",
       " 'site': 15319,\n",
       " 'all': 1274,\n",
       " 'cute': 4724,\n",
       " 'shoes': 15128,\n",
       " 'girl': 7586,\n",
       " 'year': 19280,\n",
       " 'daughter': 4836,\n",
       " 'loves': 10211,\n",
       " 'bought': 2632,\n",
       " 'law': 9761,\n",
       " 'expecting': 6476,\n",
       " 'heard': 8192,\n",
       " 'people': 12329,\n",
       " 'where': 18903,\n",
       " 'baby': 1898,\n",
       " 'her': 8270,\n",
       " 'music': 11158,\n",
       " 'shoe': 15118,\n",
       " 'construction': 4179,\n",
       " 'seems': 14835,\n",
       " 'solid': 15735,\n",
       " 'ballet': 1977,\n",
       " 'pink': 12541,\n",
       " 'street': 16348,\n",
       " 'long': 10131,\n",
       " 'toes': 17398,\n",
       " 'don': 5587,\n",
       " 'quite': 13379,\n",
       " 'reach': 13515,\n",
       " 'end': 6137,\n",
       " 'width': 18965,\n",
       " 'actually': 1015,\n",
       " 'wide': 18956,\n",
       " 'feet': 6760,\n",
       " 'suit': 16553,\n",
       " 'slim': 15473,\n",
       " 'grandson': 7796,\n",
       " 'did': 5230,\n",
       " 'stop': 16277,\n",
       " 'leaks': 9792,\n",
       " 'mention': 10664,\n",
       " 'horrible': 8472,\n",
       " 'sound': 15806,\n",
       " 'makes': 10370,\n",
       " 'whenever': 18902,\n",
       " 'moved': 11087,\n",
       " 'he': 8161,\n",
       " 'enjoy': 6180,\n",
       " 'either': 5993,\n",
       " 'happy': 8088,\n",
       " 'been': 2185,\n",
       " 'brooks': 2816,\n",
       " 'beast': 2140,\n",
       " 'many': 10431,\n",
       " 'years': 19282,\n",
       " 'layers': 9770,\n",
       " 'winter': 19020,\n",
       " 'keeps': 9466,\n",
       " 'legs': 9847,\n",
       " 'without': 19054,\n",
       " 'having': 8147,\n",
       " 'bunch': 2931,\n",
       " 'bulked': 2906,\n",
       " 'your': 19316,\n",
       " 'waist': 18598,\n",
       " 'baggy': 1949,\n",
       " 'described': 5101,\n",
       " 'real': 13541,\n",
       " 'work': 19119,\n",
       " 'hairdryer': 8005,\n",
       " 'heat': 8201,\n",
       " 'then': 17109,\n",
       " 'stick': 16218,\n",
       " 'side': 15232,\n",
       " 'pad': 12027,\n",
       " 'used': 18271,\n",
       " 'non': 11431,\n",
       " 'slip': 15489,\n",
       " 'pads': 12032,\n",
       " 'adhere': 1051,\n",
       " 'heating': 8206,\n",
       " 'necessary': 11270,\n",
       " 'product': 13067,\n",
       " 'reasonable': 13566,\n",
       " 'black': 2380,\n",
       " 'charcoal': 3388,\n",
       " 'paid': 12036,\n",
       " 'pumps': 13246,\n",
       " 'probably': 13045,\n",
       " 'need': 11284,\n",
       " 'arrived': 1645,\n",
       " 'fast': 6686,\n",
       " 'going': 7682,\n",
       " 'waiting': 18609,\n",
       " 'job': 9336,\n",
       " 'perfectly': 12355,\n",
       " 're': 13514,\n",
       " 'light': 9945,\n",
       " 'weight': 18832,\n",
       " 'mission': 10890,\n",
       " 'accomplished': 947,\n",
       " 'ie': 8653,\n",
       " 'back': 1904,\n",
       " 'abd': 862,\n",
       " 'forth': 7201,\n",
       " 'pool': 12779,\n",
       " 'seem': 14830,\n",
       " 'same': 14527,\n",
       " 'complaint': 3992,\n",
       " 'leather': 9807,\n",
       " 'gold': 7683,\n",
       " 'ended': 6138,\n",
       " 'receiving': 13591,\n",
       " 'patent': 12189,\n",
       " 'hardware': 8100,\n",
       " 'guessing': 7933,\n",
       " 'id': 8631,\n",
       " 'thing': 17156,\n",
       " 'terribly': 17039,\n",
       " 'uncomfortable': 17936,\n",
       " 'throw': 17232,\n",
       " 'away': 1872,\n",
       " 'inner': 8947,\n",
       " 'seams': 14785,\n",
       " 'area': 1597,\n",
       " 'rough': 14364,\n",
       " 'scratchy': 14722,\n",
       " 'im': 8688,\n",
       " 'petite': 12425,\n",
       " 'anyway': 1494,\n",
       " 'medium': 10621,\n",
       " 'better': 2281,\n",
       " 'rings': 14220,\n",
       " 'sticking': 16222,\n",
       " 'out': 11863,\n",
       " 'from': 7315,\n",
       " 'hardly': 8096,\n",
       " 'fingers': 6864,\n",
       " 'stylish': 16465,\n",
       " 'material': 10533,\n",
       " 'thin': 17153,\n",
       " 'compared': 3960,\n",
       " 'table': 16810,\n",
       " 'ran': 13453,\n",
       " 'green': 7843,\n",
       " 'lenses': 9871,\n",
       " 'huge': 8540,\n",
       " 'tried': 17670,\n",
       " 'order': 11780,\n",
       " 'big': 2310,\n",
       " 'initially': 8929,\n",
       " 'initial': 8928,\n",
       " 'felt': 6767,\n",
       " 'snug': 15668,\n",
       " 'mind': 10796,\n",
       " 'since': 15293,\n",
       " 'loosened': 10165,\n",
       " 'amount': 1381,\n",
       " 'hindsight': 8348,\n",
       " 'wouldn': 19164,\n",
       " 'go': 7664,\n",
       " 'down': 5638,\n",
       " 'half': 8014,\n",
       " 'heads': 8179,\n",
       " 'does': 5563,\n",
       " 'expand': 6460,\n",
       " 'said': 14493,\n",
       " 'reviews': 14139,\n",
       " 'squeaked': 16043,\n",
       " 'first': 6892,\n",
       " 'went': 18866,\n",
       " 'me': 10577,\n",
       " 'breaking': 2733,\n",
       " 'shirt': 15106,\n",
       " 'friend': 7299,\n",
       " 'gave': 7491,\n",
       " 'flip': 7023,\n",
       " 'flops': 7049,\n",
       " 'attractive': 1795,\n",
       " 'true': 17722,\n",
       " 'comfy': 3908,\n",
       " 'put': 13299,\n",
       " 'noticed': 11491,\n",
       " 'piece': 12497,\n",
       " 'goes': 7677,\n",
       " 'between': 2284,\n",
       " 'kinda': 9521,\n",
       " 'rubs': 14399,\n",
       " 'isn': 9180,\n",
       " 'mid': 10748,\n",
       " 'february': 6745,\n",
       " 'cold': 3819,\n",
       " 'here': 8271,\n",
       " 'northeast': 11459,\n",
       " 'ohio': 11659,\n",
       " 'our': 11860,\n",
       " 'vacation': 18308,\n",
       " 'hoping': 8462,\n",
       " 'bother': 2616,\n",
       " 'do': 5543,\n",
       " 'start': 16138,\n",
       " 'chose': 3547,\n",
       " 'reef': 13692,\n",
       " 'read': 13526,\n",
       " 'about': 872,\n",
       " 'how': 8516,\n",
       " 'll': 10066,\n",
       " 'keep': 9462,\n",
       " 'crossed': 4579,\n",
       " 'dry': 5779,\n",
       " 'well': 18854,\n",
       " 'already': 1316,\n",
       " 'knew': 9570,\n",
       " 'expect': 6469,\n",
       " 'luv': 10282,\n",
       " 'something': 15758,\n",
       " 'dates': 4833,\n",
       " 'off': 11628,\n",
       " 'regular': 13759,\n",
       " 'set': 14933,\n",
       " 'correct': 4323,\n",
       " 'each': 5865,\n",
       " 'bigger': 2314,\n",
       " 'favorite': 6718,\n",
       " 'travel': 17612,\n",
       " 'bag': 1938,\n",
       " 'right': 14201,\n",
       " 'anticipated': 1471,\n",
       " 'kept': 9475,\n",
       " 'gift': 7564,\n",
       " 'granddaughter': 7785,\n",
       " 'came': 3079,\n",
       " 'fat': 6696,\n",
       " 'hole': 8401,\n",
       " 'mesh': 10694,\n",
       " 'band': 1996,\n",
       " 'tendency': 17009,\n",
       " 'fray': 7256,\n",
       " 'say': 14617,\n",
       " 'metal': 10707,\n",
       " 'ruined': 14417,\n",
       " 'countless': 4395,\n",
       " 'pieces': 12499,\n",
       " 'clothing': 3736,\n",
       " 'catch': 3248,\n",
       " 'everything': 6358,\n",
       " 'matter': 10549,\n",
       " 'times': 17322,\n",
       " 'push': 13291,\n",
       " 'takes': 16849,\n",
       " 'funk': 7373,\n",
       " 'presume': 12979,\n",
       " 'moisture': 10966,\n",
       " 'under': 17948,\n",
       " 'handwashing': 8060,\n",
       " 'etc': 6315,\n",
       " 'dipped': 5306,\n",
       " 'soapy': 15688,\n",
       " 'water': 18727,\n",
       " 'bleach': 2407,\n",
       " 'peroxide': 12392,\n",
       " 'alcohol': 1252,\n",
       " 'boiling': 2535,\n",
       " 'try': 17739,\n",
       " 'smell': 15562,\n",
       " 'stopped': 16279,\n",
       " 'stand': 16107,\n",
       " 'banded': 2005,\n",
       " 'tanks': 16878,\n",
       " 'soon': 15773,\n",
       " 'nursed': 11539,\n",
       " 'once': 11696,\n",
       " 'completely': 4001,\n",
       " 'stretched': 16360,\n",
       " 'gaped': 7438,\n",
       " 'new': 11343,\n",
       " 'balance': 1964,\n",
       " 'issue': 9187,\n",
       " 'running': 14431,\n",
       " 'could': 4377,\n",
       " 'foot': 7136,\n",
       " 'inside': 8981,\n",
       " 'protects': 13166,\n",
       " 'beach': 2115,\n",
       " 'casio': 3234,\n",
       " 'watches': 18723,\n",
       " '40': 551,\n",
       " 'mostly': 11051,\n",
       " 'film': 6836,\n",
       " 'business': 2980,\n",
       " 'digital': 5265,\n",
       " 'readout': 13537,\n",
       " 'particular': 12144,\n",
       " 'turns': 17798,\n",
       " 'wrong': 19213,\n",
       " 'unlike': 18079,\n",
       " 'worn': 19143,\n",
       " 'alarm': 1244,\n",
       " 'others': 11850,\n",
       " 'five': 6919,\n",
       " 'wash': 18696,\n",
       " 'yard': 19273,\n",
       " 'filthy': 6843,\n",
       " 'afterwards': 1163,\n",
       " 'threw': 17216,\n",
       " 'shout': 15177,\n",
       " 'advertised': 1103,\n",
       " 'cannot': 3118,\n",
       " 'unbuckle': 17920,\n",
       " 'belt': 2245,\n",
       " 'stuck': 16423,\n",
       " 'bathroom': 2084,\n",
       " 'terrible': 17038,\n",
       " 'buckle': 2858,\n",
       " 'expected': 6475,\n",
       " 'wish': 19039,\n",
       " 'loved': 10205,\n",
       " 'needs': 11292,\n",
       " 'asap': 1671,\n",
       " 'we': 18766,\n",
       " 'levi': 9905,\n",
       " '505': 630,\n",
       " 'significantly': 15256,\n",
       " 'straight': 16302,\n",
       " 'last': 9720,\n",
       " 'fall': 6636,\n",
       " 'husband': 8589,\n",
       " 'tall': 16860,\n",
       " '36': 486,\n",
       " 'inseam': 8969,\n",
       " 'delighted': 5022,\n",
       " 'required': 13960,\n",
       " '70': 744,\n",
       " '00': 0,\n",
       " 'alteration': 1322,\n",
       " 'take': 16847,\n",
       " 'measurements': 10593,\n",
       " 'fade': 6607,\n",
       " 'print': 13021,\n",
       " 'noticeable': 11489,\n",
       " 'sent': 14887,\n",
       " 'customer': 4715,\n",
       " 'service': 14924,\n",
       " 'fantastic': 6659,\n",
       " 'veil': 18373,\n",
       " 'more': 11029,\n",
       " 'expensive': 6485,\n",
       " 'beads': 2122,\n",
       " 'falling': 6638,\n",
       " 'always': 1343,\n",
       " 'reglue': 13750,\n",
       " 'ones': 11699,\n",
       " 'fakes': 6634,\n",
       " 'knock': 9583,\n",
       " 'offs': 11646,\n",
       " 'made': 10315,\n",
       " 'women': 19083,\n",
       " '10': 13,\n",
       " 'kids': 9506,\n",
       " 'wore': 19118,\n",
       " 'air': 1216,\n",
       " 'flat': 6969,\n",
       " 'help': 8249,\n",
       " 'shin': 15081,\n",
       " 'splints': 15961,\n",
       " 'high': 8308,\n",
       " 'hopes': 8461,\n",
       " 'there': 17116,\n",
       " 'skip': 15394,\n",
       " 'fad': 6606,\n",
       " 'backpack': 1915,\n",
       " 'except': 6401,\n",
       " 'fact': 6598,\n",
       " 'zipper': 19354,\n",
       " 'started': 16139,\n",
       " 'caught': 3266,\n",
       " 'definitely': 4985,\n",
       " 'lasted': 9721,\n",
       " 'needed': 11286,\n",
       " 'brown': 2824,\n",
       " 'wig': 18972,\n",
       " 'harry': 8111,\n",
       " 'potter': 12861,\n",
       " 'soft': 15705,\n",
       " 'touch': 17499,\n",
       " 'piled': 12517,\n",
       " 'head': 8162,\n",
       " 'showing': 15194,\n",
       " 'large': 9707,\n",
       " 'face': 6580,\n",
       " 'easily': 5899,\n",
       " 'pure': 13273,\n",
       " 'clean': 3655,\n",
       " 'white': 18927,\n",
       " 'entire': 6211,\n",
       " 'works': 19135,\n",
       " 'serves': 14923,\n",
       " 'fashion': 6680,\n",
       " 'accessories': 929,\n",
       " 'glad': 7604,\n",
       " 'considering': 4152,\n",
       " 'gifts': 7568,\n",
       " '2012': 293,\n",
       " 'someones': 15756,\n",
       " 'care': 3165,\n",
       " 'insulated': 9030,\n",
       " 'drink': 5741,\n",
       " 'packet': 12021,\n",
       " 'helps': 8254,\n",
       " 'cool': 4271,\n",
       " 'appeared': 1531,\n",
       " 'making': 10373,\n",
       " 'sail': 14494,\n",
       " 'purchase': 13265,\n",
       " 'sock': 15696,\n",
       " 'recommend': 13629,\n",
       " 'purchasing': 13270,\n",
       " '18': 215,\n",
       " '20': 276,\n",
       " '2x': 392,\n",
       " 'hassle': 8123,\n",
       " 'date': 4831,\n",
       " 'getting': 7552,\n",
       " 'pushed': 13292,\n",
       " 'ask': 1687,\n",
       " 'twice': 17828,\n",
       " 'refund': 13724,\n",
       " 'called': 3062,\n",
       " 'pay': 12227,\n",
       " 'compliments': 4017,\n",
       " 'day': 4847,\n",
       " 'due': 5803,\n",
       " 'experience': 6486,\n",
       " 'while': 18913,\n",
       " 'mentioned': 10665,\n",
       " 'description': 5105,\n",
       " 'usa': 18261,\n",
       " 'satisfied': 14590,\n",
       " 'ya': 19263,\n",
       " 'hands': 8056,\n",
       " 'min': 10795,\n",
       " 'putting': 13304,\n",
       " 'blood': 2462,\n",
       " 'flow': 7060,\n",
       " 'being': 2215,\n",
       " 'cut': 4723,\n",
       " 'opening': 11733,\n",
       " 'own': 11987,\n",
       " 'their': 17102,\n",
       " 'dressy': 5731,\n",
       " 'any': 1483,\n",
       " 'seasons': 14797,\n",
       " 'some': 15751,\n",
       " 'chance': 3367,\n",
       " 'anywhere': 1497,\n",
       " 'airport': 1226,\n",
       " 'trip': 17687,\n",
       " 'rome': 14315,\n",
       " 'paris': 12127,\n",
       " 'enough': 6190,\n",
       " 'cushy': 4708,\n",
       " 'walked': 18620,\n",
       " 'streets': 16349,\n",
       " 'hours': 8504,\n",
       " 'feeling': 6756,\n",
       " 'pain': 12038,\n",
       " 'usual': 18285,\n",
       " 'tear': 16949,\n",
       " 'trainers': 17571,\n",
       " 'lace': 9639,\n",
       " 'easy': 5905,\n",
       " 'sometimes': 15761,\n",
       " 'laces': 9642,\n",
       " 'highly': 8317,\n",
       " 'suggest': 16547,\n",
       " 'avg': 1850,\n",
       " 'height': 8235,\n",
       " '5ft': 681,\n",
       " 'nicely': 11364,\n",
       " 'nephew': 11317,\n",
       " 'asked': 1688,\n",
       " 'gildan': 7573,\n",
       " 'sweatshirts': 16728,\n",
       " 'ash': 1675,\n",
       " 'xls': 19240,\n",
       " 'navy': 11249,\n",
       " 'understand': 17975,\n",
       " 'xl': 19236,\n",
       " 'sleeves': 15451,\n",
       " 'over': 11916,\n",
       " 'fingertips': 6866,\n",
       " 'mini': 10804,\n",
       " 'puzzling': 13308,\n",
       " 'flattering': 6978,\n",
       " 'falls': 6640,\n",
       " 'below': 2244,\n",
       " 'knees': 9569,\n",
       " 'alone': 1308,\n",
       " 'leggings': 9835,\n",
       " 'features': 6740,\n",
       " 'indiglo': 8861,\n",
       " 'upset': 18233,\n",
       " 'couple': 4402,\n",
       " 'minutes': 10837,\n",
       " 'before': 2195,\n",
       " 'pinching': 12536,\n",
       " 'skin': 15385,\n",
       " 'arms': 1629,\n",
       " 'positioning': 12831,\n",
       " 'luck': 10235,\n",
       " 'excruciatingly': 6427,\n",
       " 'wonderful': 19088,\n",
       " 'returns': 14116,\n",
       " 'zippers': 19356,\n",
       " 'wrist': 19201,\n",
       " 'general': 7514,\n",
       " 'problem': 13047,\n",
       " 'damaged': 4769,\n",
       " 'insoles': 8992,\n",
       " 'seperately': 14902,\n",
       " 'attached': 1764,\n",
       " 'usable': 18263,\n",
       " 'several': 14950,\n",
       " 'three': 17214,\n",
       " 'different': 5250,\n",
       " 'computers': 4042,\n",
       " 'exchange': 6412,\n",
       " 'select': 14852,\n",
       " 'replace': 13917,\n",
       " 'items': 9206,\n",
       " 'absolutly': 886,\n",
       " 'happens': 8083,\n",
       " 'purchases': 13269,\n",
       " 'faithful': 6628,\n",
       " 'issues': 9189,\n",
       " 'tiresome': 17353,\n",
       " 'hated': 8130,\n",
       " 'stupid': 16452,\n",
       " 'plus': 12688,\n",
       " 'thick': 17140,\n",
       " 'itchy': 9202,\n",
       " 'overall': 11918,\n",
       " 'keeping': 9465,\n",
       " 'bills': 2337,\n",
       " 'spot': 15995,\n",
       " 'fun': 7358,\n",
       " 'party': 12156,\n",
       " 'grandmothers': 7793,\n",
       " 'everyone': 6356,\n",
       " 'support': 16623,\n",
       " 'arch': 1588,\n",
       " 'pleased': 12657,\n",
       " 'comfort': 3894,\n",
       " 'stretch': 16358,\n",
       " 'ok': 11666,\n",
       " 'guess': 7931,\n",
       " 'should': 15169,\n",
       " 'known': 9600,\n",
       " 'bra': 2680,\n",
       " 'cost': 4355,\n",
       " 'truly': 17725,\n",
       " 'bounce': 2638,\n",
       " 'shock': 15111,\n",
       " 'active': 1004,\n",
       " 'believe': 2221,\n",
       " 'ride': 14185,\n",
       " 'horses': 8482,\n",
       " 'unfortunetly': 18033,\n",
       " 'constant': 4167,\n",
       " 'search': 14788,\n",
       " 'affordable': 1145,\n",
       " 'offered': 11634,\n",
       " 'virtually': 18500,\n",
       " 'girls': 7591,\n",
       " 'place': 12594,\n",
       " 'casual': 3241,\n",
       " 'things': 17158,\n",
       " 'oh': 11655,\n",
       " 'share': 15009,\n",
       " 'cents': 3319,\n",
       " 'workmanship': 19131,\n",
       " 'usually': 18286,\n",
       " '160lbs': 184,\n",
       " 'delivered': 5027,\n",
       " 'toronto': 17471,\n",
       " 'standard': 16109,\n",
       " 'opened': 11731,\n",
       " 'impressed': 8749,\n",
       " 'main': 10353,\n",
       " 'outer': 11871,\n",
       " 'wool': 19106,\n",
       " 'gives': 7601,\n",
       " 'slightly': 15471,\n",
       " 'formal': 7188,\n",
       " 'coat': 3783,\n",
       " 'far': 6662,\n",
       " 'weather': 18789,\n",
       " 'period': 12374,\n",
       " 'horrific': 8475,\n",
       " 'master': 10521,\n",
       " 'lied': 9926,\n",
       " 'ignored': 8660,\n",
       " 'request': 13955,\n",
       " 'cancel': 3106,\n",
       " 'catching': 3252,\n",
       " 'lies': 9927,\n",
       " 'told': 17410,\n",
       " 'iraq': 9141,\n",
       " 'tour': 17511,\n",
       " 'duty': 5849,\n",
       " 'continue': 4211,\n",
       " 'tell': 16989,\n",
       " 'mr': 11100,\n",
       " 'took': 17434,\n",
       " 'weeks': 18826,\n",
       " '17': 198,\n",
       " 'emails': 6065,\n",
       " 'transaction': 17577,\n",
       " 'company': 3953,\n",
       " 'buyer': 3017,\n",
       " 'beware': 2289,\n",
       " 'soldiers': 15730,\n",
       " 'question': 13352,\n",
       " 'mother': 11055,\n",
       " 'pearl': 12257,\n",
       " 'womans': 19082,\n",
       " 'nbsp': 11254,\n",
       " 'data': 4830,\n",
       " 'hook': 8444,\n",
       " 'link': 10008,\n",
       " 'linked': 10009,\n",
       " 'class': 3638,\n",
       " 'normal': 11454,\n",
       " 'href': 8525,\n",
       " 'bulova': 2917,\n",
       " 'ladies': 9658,\n",
       " 'diamonds': 5217,\n",
       " 'dial': 5211,\n",
       " 'diamond': 5216,\n",
       " 'markers': 10465,\n",
       " 'bezel': 2291,\n",
       " 'dp': 5666,\n",
       " 'ref': 13698,\n",
       " 'cm_cr_arp_d_rvw_txt': 3770,\n",
       " 'utf8': 18291,\n",
       " 'waste': 18710,\n",
       " 'money': 10990,\n",
       " 'okey': 11669,\n",
       " 'glue': 7653,\n",
       " 'chain': 3342,\n",
       " 'hope': 8454,\n",
       " 'selling': 14863,\n",
       " 'fooling': 7132,\n",
       " '12': 76,\n",
       " 'minecraft': 10801,\n",
       " 'tired': 17351,\n",
       " 'tshirts': 17746,\n",
       " 'everywhere': 6360,\n",
       " 'refreshing': 13722,\n",
       " 'kid': 9500,\n",
       " 'washes': 18702,\n",
       " 'neck': 11274,\n",
       " 'chest': 3471,\n",
       " 'worst': 19152,\n",
       " 'part': 12135,\n",
       " 'mask': 10506,\n",
       " 'crushed': 4621,\n",
       " 'restored': 14057,\n",
       " 'shape': 14998,\n",
       " 'season': 14794,\n",
       " 'lovely': 10208,\n",
       " 'reorder': 13888,\n",
       " 'longer': 10132,\n",
       " 'mediums': 10622,\n",
       " 'given': 7599,\n",
       " 'earned': 5883,\n",
       " 'must': 11163,\n",
       " 'wrangler': 19176,\n",
       " 'outside': 11898,\n",
       " 'key': 9480,\n",
       " 'open': 11730,\n",
       " 'magnetic': 10331,\n",
       " 'pocket': 12700,\n",
       " 'closed': 3722,\n",
       " 'original': 11814,\n",
       " 'lug': 10242,\n",
       " 'able': 868,\n",
       " 'someone': 15755,\n",
       " 'closet': 3728,\n",
       " 'sure': 16638,\n",
       " 'annoying': 1450,\n",
       " 'closing': 3729,\n",
       " 'roomy': 14333,\n",
       " 'maybe': 10567,\n",
       " 'internet': 9082,\n",
       " 'purse': 13286,\n",
       " 'useful': 18272,\n",
       " 'worth': 19153,\n",
       " 'niece': 11375,\n",
       " 'butt': 2996,\n",
       " 'tarnished': 16905,\n",
       " 'thrown': 17236,\n",
       " 'xs': 19245,\n",
       " 'secondly': 14808,\n",
       " 'rather': 13486,\n",
       " 'grey': 7851,\n",
       " 'instead': 9014,\n",
       " 'badly': 1932,\n",
       " 'addition': 1040,\n",
       " 'originally': 11816,\n",
       " 'scheduled': 14667,\n",
       " 'loving': 10213,\n",
       " 'accent': 911,\n",
       " 'matched': 10526,\n",
       " 'handbag': 8036,\n",
       " ...}"
      ]
     },
     "execution_count": 40,
     "metadata": {},
     "output_type": "execute_result"
    }
   ],
   "source": [
    "vect.vocabulary_"
   ]
  },
  {
   "cell_type": "code",
   "execution_count": 41,
   "metadata": {},
   "outputs": [
    {
     "name": "stderr",
     "output_type": "stream",
     "text": [
      "C:\\ProgramData\\Anaconda3\\lib\\site-packages\\sklearn\\linear_model\\_logistic.py:940: ConvergenceWarning: lbfgs failed to converge (status=1):\n",
      "STOP: TOTAL NO. of ITERATIONS REACHED LIMIT.\n",
      "\n",
      "Increase the number of iterations (max_iter) or scale the data as shown in:\n",
      "    https://scikit-learn.org/stable/modules/preprocessing.html\n",
      "Please also refer to the documentation for alternative solver options:\n",
      "    https://scikit-learn.org/stable/modules/linear_model.html#logistic-regression\n",
      "  extra_warning_msg=_LOGISTIC_SOLVER_CONVERGENCE_MSG)\n"
     ]
    },
    {
     "data": {
      "text/plain": [
       "0.9018608411941617"
      ]
     },
     "execution_count": 41,
     "metadata": {},
     "output_type": "execute_result"
    }
   ],
   "source": [
    "from sklearn.linear_model import LogisticRegression\n",
    "\n",
    "model = LogisticRegression()\n",
    "model.fit(features_train_vectorized, labels_train)\n",
    "\n",
    "from sklearn.metrics import roc_auc_score\n",
    "\n",
    "predictions = model.predict(vect.transform(features_test))\n",
    "\n",
    "roc_auc_score(labels_test, predictions)"
   ]
  },
  {
   "cell_type": "code",
   "execution_count": 42,
   "metadata": {},
   "outputs": [],
   "source": [
    "#use pickle to save the model\n",
    "#these steps would take place on my machine\n",
    "import pickle"
   ]
  },
  {
   "cell_type": "code",
   "execution_count": 3,
   "metadata": {},
   "outputs": [],
   "source": [
    "pkl_filename=\"pickle_model.pkl\""
   ]
  },
  {
   "cell_type": "code",
   "execution_count": 131,
   "metadata": {},
   "outputs": [],
   "source": [
    "with open(pkl_filename, 'wb') as file:\n",
    "    pickle.dump(model, file)\n",
    "    \n"
   ]
  },
  {
   "cell_type": "code",
   "execution_count": 132,
   "metadata": {},
   "outputs": [],
   "source": [
    "#joblib is better than pickle for big data\n",
    "import joblib"
   ]
  },
  {
   "cell_type": "code",
   "execution_count": 133,
   "metadata": {},
   "outputs": [],
   "source": [
    "with open(\"joblib_model.pkl\",'wb') as file:\n",
    "    joblib.dump(model,file)"
   ]
  },
  {
   "cell_type": "code",
   "execution_count": 134,
   "metadata": {},
   "outputs": [],
   "source": [
    "with open(\"joblib_model.pkl\",'rb') as file:\n",
    "    joblib_model = joblib.load(file)"
   ]
  },
  {
   "cell_type": "code",
   "execution_count": 135,
   "metadata": {},
   "outputs": [],
   "source": [
    "with open(\"pickle_model.pkl\",'rb') as file:\n",
    "    pickel_model=pickle.load(file)"
   ]
  },
  {
   "cell_type": "code",
   "execution_count": 136,
   "metadata": {},
   "outputs": [],
   "source": [
    "#pre trained\n",
    "#textblob\n",
    "#vender"
   ]
  },
  {
   "cell_type": "code",
   "execution_count": 138,
   "metadata": {},
   "outputs": [],
   "source": [
    "from textblob import TextBlob"
   ]
  },
  {
   "cell_type": "code",
   "execution_count": 139,
   "metadata": {},
   "outputs": [
    {
     "data": {
      "text/plain": [
       "Sentiment(polarity=0.5027777777777778, subjectivity=0.6305555555555556)"
      ]
     },
     "execution_count": 139,
     "metadata": {},
     "output_type": "execute_result"
    }
   ],
   "source": [
    "text_blob_object = TextBlob(df['reviewText'][350])\n",
    "text_blob_object.sentiment"
   ]
  },
  {
   "cell_type": "code",
   "execution_count": 40,
   "metadata": {},
   "outputs": [],
   "source": [
    "with open(\"pickle_model.pkl\",'rb') as file:\n",
    "    pickel_model=pickle.load(file)\n",
    "    pickel_model.predict(vect.transform(features_test))"
   ]
  },
  {
   "cell_type": "code",
   "execution_count": 38,
   "metadata": {},
   "outputs": [],
   "source": [
    "with open(\"pickle_model.pkl\",'rb') as file:\n",
    "    pickel_model=pickle.load(file)"
   ]
  },
  {
   "cell_type": "code",
   "execution_count": 39,
   "metadata": {},
   "outputs": [],
   "source": [
    "import numpy as np"
   ]
  },
  {
   "cell_type": "code",
   "execution_count": 41,
   "metadata": {},
   "outputs": [
    {
     "data": {
      "text/plain": [
       "array([1])"
      ]
     },
     "execution_count": 41,
     "metadata": {},
     "output_type": "execute_result"
    }
   ],
   "source": [
    "pickel_model.predict(vect.transform(['good one']))"
   ]
  },
  {
   "cell_type": "code",
   "execution_count": 43,
   "metadata": {},
   "outputs": [],
   "source": [
    "with open(\"feature.pkl\", 'wb') as file:\n",
    "    pickle.dump(vect.vocabulary_, file)"
   ]
  }
 ],
 "metadata": {
  "kernelspec": {
   "display_name": "Python 3",
   "language": "python",
   "name": "python3"
  },
  "language_info": {
   "codemirror_mode": {
    "name": "ipython",
    "version": 3
   },
   "file_extension": ".py",
   "mimetype": "text/x-python",
   "name": "python",
   "nbconvert_exporter": "python",
   "pygments_lexer": "ipython3",
   "version": "3.7.6"
  }
 },
 "nbformat": 4,
 "nbformat_minor": 4
}
